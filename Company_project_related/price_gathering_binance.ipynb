{
 "cells": [
  {
   "cell_type": "markdown",
   "metadata": {},
   "source": [
    "### 1- Getting Symbols from Aave\n",
    "### 2- Mapping them on Binance Symbols\n",
    "### 3- Getting the pricess for mapped symbols"
   ]
  },
  {
   "cell_type": "code",
   "execution_count": 1,
   "metadata": {},
   "outputs": [
    {
     "name": "stdout",
     "output_type": "stream",
     "text": [
      "237\n",
      "['DAI', 'TUSD', 'USDC', 'USDT', 'SUSD', 'LEND', 'BAT', 'ETH', 'LINK', 'KNC', 'REP', 'MKR', 'MANA', 'ZRX', 'SNX', 'WBTC', 'BUSD', 'ENJ', 'REN', 'YFI', 'AAVE', 'UNI', 'AUSDT', 'AWBTC', 'AWETH', 'AYFI', 'AZRX', 'AUNI', 'AAAVE', 'ABAT', 'ABUSD', 'ADAI', 'AENJ', 'AKNC', 'ALINK', 'AMANA', 'AMKR', 'AREN', 'ASNX', 'ASUSD', 'ATUSD', 'AUSDC', 'ACRV', 'AGUSD', 'ABAL', 'AXSUSHI', 'ARENFIL', 'ARAI', 'AAMPL', 'AUSDP', 'ADPI', 'AFRAX', 'AFEI', 'ASTETH', 'AENS', 'AUST', 'ACVX', 'A1INCH', 'ALUSD', 'AAMMWETH', 'AAMMDAI', 'AAMMUSDC', 'AAMMUSDT', 'AAMMWBTC', 'AAMMUNIDAIWETH', 'AAMMUNIWBTCWETH', 'AAMMUNIAAVEWETH', 'AAMMUNIBATWETH', 'AAMMUNIDAIUSDC', 'AAMMUNICRVWETH', 'AAMMUNILINKWETH', 'AAMMUNIMKRWETH', 'AAMMUNIRENWETH', 'AAMMUNISNXWETH', 'AAMMUNIUNIWETH', 'AAMMUNIUSDCWETH', 'AAMMUNIWBTCUSDC', 'AAMMUNIYFIWETH', 'AAMMBPTWBTCWETH', 'AAMMBPTBALWETH', 'AAMMGUNIDAIUSDC', 'AAMMGUNIUSDCUSDT', 'AMDAI', 'AMUSDC', 'AMUSDT', 'AMWBTC', 'AMWETH', 'AMWMATIC', 'AMAAVE', 'AMGHST', 'AMBAL', 'AMDPI', 'AMCRV', 'AMSUSHI', 'AMLINK', 'WETH.E', 'DAI.E', 'USDT.E', 'USDC.E', 'AAVE.E', 'WBTC.E', 'WAVAX', 'DAI', 'LINK', 'USDC', 'WBTC', 'WETH', 'USDT', 'AAVE', 'WMATIC', 'CRV', 'SUSHI', 'GHST', 'BAL', 'DPI', 'EURS', 'jEUR', 'EURA', 'miMATIC', 'stMATIC', 'MaticX', 'wstETH', 'USDC', 'DAI.e', 'LINK.e', 'USDC', 'WBTC.e', 'WETH.e', 'USDt', 'AAVE.e', 'WAVAX', 'sAVAX', 'FRAX', 'MAI', 'BTC.b', 'DAI', 'LINK', 'USDC', 'WBTC', 'WETH', 'USDT', 'AAVE', 'EURS', 'wstETH', 'MAI', 'rETH', 'LUSD', 'USDC', 'FRAX', 'ARB', 'weETH', 'GHO', 'DAI', 'LINK', 'USDC', 'WBTC', 'WETH', 'USDT', 'AAVE', 'sUSD', 'OP', 'wstETH', 'LUSD', 'MAI', 'rETH', 'USDC', 'DAI', 'LINK', 'USDC', 'BTC', 'ETH', 'fUSDT', 'AAVE', 'WFTM', 'CRV', 'SUSHI', 'WETH', 'wstETH', 'WBTC', 'USDC', 'DAI', 'LINK', 'AAVE', 'cbETH', 'USDT', 'rETH', 'LUSD', 'CRV', 'MKR', 'SNX', 'BAL', 'UNI', 'LDO', 'ENS', '1INCH', 'FRAX', 'GHO', 'RPL', 'sDAI', 'STG', 'KNC', 'FXS', 'crvUSD', 'PYUSD', 'weETH', 'osETH', 'USDe', 'ETHx', 'sUSDe', 'WETH', 'cbETH', 'USDbC', 'wstETH', 'USDC', 'weETH', 'm.DAI', 'Metis', 'm.USDC', 'm.USDT', 'WETH', 'WETH', 'wstETH', 'GNO', 'USDC', 'WXDAI', 'EURe', 'sDAI', 'WETH', 'USDC', 'wstETH', 'Cake', 'WBNB', 'BTCB', 'ETH', 'USDC', 'USDT', 'FDUSD']\n"
     ]
    }
   ],
   "source": [
    "import requests\n",
    "\n",
    "# Aave API endpoint for market data\n",
    "url = \"https://aave-api-v2.aave.com/data/markets-data\"\n",
    "\n",
    "# Send a GET request to the Aave API\n",
    "response = requests.get(url)\n",
    "symbols = []\n",
    "# Check if the request was successful\n",
    "if response.status_code == 200:\n",
    "    # Parse the JSON response\n",
    "    count = 0\n",
    "    res = response.json()\n",
    "    for s in res['reserves']:\n",
    "        symbols.append(s['symbol'])\n",
    "else:\n",
    "    print(\"Failed to retrieve data from Aave API\")\n",
    "\n",
    "print(len(symbols))\n",
    "print(symbols)\n"
   ]
  },
  {
   "cell_type": "code",
   "execution_count": 2,
   "metadata": {},
   "outputs": [
    {
     "name": "stdout",
     "output_type": "stream",
     "text": [
      "9861\n"
     ]
    },
    {
     "data": {
      "text/html": [
       "<div>\n",
       "<style scoped>\n",
       "    .dataframe tbody tr th:only-of-type {\n",
       "        vertical-align: middle;\n",
       "    }\n",
       "\n",
       "    .dataframe tbody tr th {\n",
       "        vertical-align: top;\n",
       "    }\n",
       "\n",
       "    .dataframe thead th {\n",
       "        text-align: right;\n",
       "    }\n",
       "</style>\n",
       "<table border=\"1\" class=\"dataframe\">\n",
       "  <thead>\n",
       "    <tr style=\"text-align: right;\">\n",
       "      <th></th>\n",
       "      <th>timestamp</th>\n",
       "      <th>open</th>\n",
       "      <th>high</th>\n",
       "      <th>low</th>\n",
       "      <th>close</th>\n",
       "      <th>volume</th>\n",
       "      <th>close_time</th>\n",
       "      <th>quote_asset_volume</th>\n",
       "      <th>number_of_trades</th>\n",
       "      <th>taker_buy_base_asset_volume</th>\n",
       "      <th>taker_buy_quote_asset_volume</th>\n",
       "      <th>ignore</th>\n",
       "    </tr>\n",
       "  </thead>\n",
       "  <tbody>\n",
       "    <tr>\n",
       "      <th>0</th>\n",
       "      <td>2017-08-17 04:00:00</td>\n",
       "      <td>4261.48000000</td>\n",
       "      <td>4313.62000000</td>\n",
       "      <td>4261.32000000</td>\n",
       "      <td>4308.83000000</td>\n",
       "      <td>47.18100900</td>\n",
       "      <td>1502945999999</td>\n",
       "      <td>202366.13839304</td>\n",
       "      <td>171</td>\n",
       "      <td>35.16050300</td>\n",
       "      <td>150952.47794304</td>\n",
       "      <td>0</td>\n",
       "    </tr>\n",
       "    <tr>\n",
       "      <th>1</th>\n",
       "      <td>2017-08-17 05:00:00</td>\n",
       "      <td>4308.83000000</td>\n",
       "      <td>4328.69000000</td>\n",
       "      <td>4291.37000000</td>\n",
       "      <td>4315.32000000</td>\n",
       "      <td>23.23491600</td>\n",
       "      <td>1502949599999</td>\n",
       "      <td>100304.82356749</td>\n",
       "      <td>102</td>\n",
       "      <td>21.44807100</td>\n",
       "      <td>92608.27972836</td>\n",
       "      <td>0</td>\n",
       "    </tr>\n",
       "    <tr>\n",
       "      <th>2</th>\n",
       "      <td>2017-08-17 06:00:00</td>\n",
       "      <td>4330.29000000</td>\n",
       "      <td>4345.45000000</td>\n",
       "      <td>4309.37000000</td>\n",
       "      <td>4324.35000000</td>\n",
       "      <td>7.22969100</td>\n",
       "      <td>1502953199999</td>\n",
       "      <td>31282.31266989</td>\n",
       "      <td>36</td>\n",
       "      <td>4.80286100</td>\n",
       "      <td>20795.31722405</td>\n",
       "      <td>0</td>\n",
       "    </tr>\n",
       "  </tbody>\n",
       "</table>\n",
       "</div>"
      ],
      "text/plain": [
       "            timestamp           open           high            low  \\\n",
       "0 2017-08-17 04:00:00  4261.48000000  4313.62000000  4261.32000000   \n",
       "1 2017-08-17 05:00:00  4308.83000000  4328.69000000  4291.37000000   \n",
       "2 2017-08-17 06:00:00  4330.29000000  4345.45000000  4309.37000000   \n",
       "\n",
       "           close       volume     close_time quote_asset_volume  \\\n",
       "0  4308.83000000  47.18100900  1502945999999    202366.13839304   \n",
       "1  4315.32000000  23.23491600  1502949599999    100304.82356749   \n",
       "2  4324.35000000   7.22969100  1502953199999     31282.31266989   \n",
       "\n",
       "   number_of_trades taker_buy_base_asset_volume taker_buy_quote_asset_volume  \\\n",
       "0               171                 35.16050300              150952.47794304   \n",
       "1               102                 21.44807100               92608.27972836   \n",
       "2                36                  4.80286100               20795.31722405   \n",
       "\n",
       "  ignore  \n",
       "0      0  \n",
       "1      0  \n",
       "2      0  "
      ]
     },
     "execution_count": 2,
     "metadata": {},
     "output_type": "execute_result"
    }
   ],
   "source": [
    "import requests\n",
    "import pandas as pd\n",
    "from datetime import datetime\n",
    "\n",
    "def datetime_to_timestamp(dt):\n",
    "    # Convert a datetime object to a timestamp in milliseconds\n",
    "    return int(dt.timestamp() * 1000)\n",
    "\n",
    "def get_binance_klines(symbol, interval, end_time, start_time=datetime_to_timestamp(datetime(2017, 1, 1, 12, 0, 0))):\n",
    "    url = \"https://api.binance.com/api/v3/klines\"\n",
    "    params = {\n",
    "        'symbol': symbol,\n",
    "        'interval': interval,\n",
    "        'startTime': start_time,\n",
    "        'endTime': end_time,\n",
    "        'limit': 720  # Requesting 720 data points (12 hours)\n",
    "    }\n",
    "    all_data = []\n",
    "\n",
    "    while True:\n",
    "        response = requests.get(url, params=params)\n",
    "        data = response.json()\n",
    "\n",
    "        if not data:\n",
    "            break\n",
    "\n",
    "        all_data.extend(data)\n",
    "        params['startTime'] = data[-1][0] + 1  # Update start time to the last data point\n",
    "\n",
    "        if params['startTime'] >= end_time:\n",
    "            break\n",
    "\n",
    "    # Convert to DataFrame\n",
    "    df = pd.DataFrame(all_data, columns=['timestamp', 'open', 'high', 'low', 'close', 'volume',\n",
    "                                         'close_time', 'quote_asset_volume', 'number_of_trades',\n",
    "                                         'taker_buy_base_asset_volume', 'taker_buy_quote_asset_volume', 'ignore'])\n",
    "    df['timestamp'] = pd.to_datetime(df['timestamp'], unit='ms')\n",
    "    return df\n",
    "\n",
    "\n",
    "# end date : the newer date, start date: the older date\n",
    "# date_start = datetime(2017, 1, 1, 12, 0, 0)\n",
    "date_end = datetime(2018, 10, 4, 12, 0, 0)\n",
    "df = get_binance_klines('BTCUSDT', '1h', datetime_to_timestamp(date_end))\n",
    "print(len(df))\n",
    "df.head(3)"
   ]
  },
  {
   "cell_type": "code",
   "execution_count": 3,
   "metadata": {},
   "outputs": [
    {
     "name": "stdout",
     "output_type": "stream",
     "text": [
      "237\n",
      "['dai', 'tusd', 'usdc', 'usdt', 'susd', 'lend', 'bat', 'eth', 'link', 'knc', 'rep', 'mkr', 'mana', 'zrx', 'snx', 'wbtc', 'busd', 'enj', 'ren', 'yfi', 'aave', 'uni', 'ausdt', 'awbtc', 'aweth', 'ayfi', 'azrx', 'auni', 'aaave', 'abat', 'abusd', 'adai', 'aenj', 'aknc', 'alink', 'amana', 'amkr', 'aren', 'asnx', 'asusd', 'atusd', 'ausdc', 'acrv', 'agusd', 'abal', 'axsushi', 'arenfil', 'arai', 'aampl', 'ausdp', 'adpi', 'afrax', 'afei', 'asteth', 'aens', 'aust', 'acvx', 'a1inch', 'alusd', 'aammweth', 'aammdai', 'aammusdc', 'aammusdt', 'aammwbtc', 'aammunidaiweth', 'aammuniwbtcweth', 'aammuniaaveweth', 'aammunibatweth', 'aammunidaiusdc', 'aammunicrvweth', 'aammunilinkweth', 'aammunimkrweth', 'aammunirenweth', 'aammunisnxweth', 'aammuniuniweth', 'aammuniusdcweth', 'aammuniwbtcusdc', 'aammuniyfiweth', 'aammbptwbtcweth', 'aammbptbalweth', 'aammgunidaiusdc', 'aammguniusdcusdt', 'amdai', 'amusdc', 'amusdt', 'amwbtc', 'amweth', 'amwmatic', 'amaave', 'amghst', 'ambal', 'amdpi', 'amcrv', 'amsushi', 'amlink', 'weth.e', 'dai.e', 'usdt.e', 'usdc.e', 'aave.e', 'wbtc.e', 'wavax', 'dai', 'link', 'usdc', 'wbtc', 'weth', 'usdt', 'aave', 'wmatic', 'crv', 'sushi', 'ghst', 'bal', 'dpi', 'eurs', 'jeur', 'eura', 'mimatic', 'stmatic', 'maticx', 'wsteth', 'usdc', 'dai.e', 'link.e', 'usdc', 'wbtc.e', 'weth.e', 'usdt', 'aave.e', 'wavax', 'savax', 'frax', 'mai', 'btc.b', 'dai', 'link', 'usdc', 'wbtc', 'weth', 'usdt', 'aave', 'eurs', 'wsteth', 'mai', 'reth', 'lusd', 'usdc', 'frax', 'arb', 'weeth', 'gho', 'dai', 'link', 'usdc', 'wbtc', 'weth', 'usdt', 'aave', 'susd', 'op', 'wsteth', 'lusd', 'mai', 'reth', 'usdc', 'dai', 'link', 'usdc', 'btc', 'eth', 'fusdt', 'aave', 'wftm', 'crv', 'sushi', 'weth', 'wsteth', 'wbtc', 'usdc', 'dai', 'link', 'aave', 'cbeth', 'usdt', 'reth', 'lusd', 'crv', 'mkr', 'snx', 'bal', 'uni', 'ldo', 'ens', '1inch', 'frax', 'gho', 'rpl', 'sdai', 'stg', 'knc', 'fxs', 'crvusd', 'pyusd', 'weeth', 'oseth', 'usde', 'ethx', 'susde', 'weth', 'cbeth', 'usdbc', 'wsteth', 'usdc', 'weeth', 'm.dai', 'metis', 'm.usdc', 'm.usdt', 'weth', 'weth', 'wsteth', 'gno', 'usdc', 'wxdai', 'eure', 'sdai', 'weth', 'usdc', 'wsteth', 'cake', 'wbnb', 'btcb', 'eth', 'usdc', 'usdt', 'fdusd']\n"
     ]
    }
   ],
   "source": [
    "# mapping symbols\n",
    "Aave_symbols = [item.lower() for item in symbols]\n",
    "print(len(Aave_symbols))\n",
    "print(Aave_symbols)"
   ]
  },
  {
   "cell_type": "code",
   "execution_count": 4,
   "metadata": {},
   "outputs": [
    {
     "name": "stdout",
     "output_type": "stream",
     "text": [
      "['ETHBTC', 'LTCBTC', 'BNBBTC', 'NEOBTC', 'QTUMETH', 'EOSETH', 'SNTETH', 'BNTETH', 'BCCBTC', 'GASBTC', 'BNBETH', 'BTCUSDT', 'ETHUSDT', 'HSRBTC', 'OAXETH', 'DNTETH', 'MCOETH', 'ICNETH', 'MCOBTC', 'WTCBTC', 'WTCETH', 'LRCBTC', 'LRCETH', 'QTUMBTC', 'YOYOBTC', 'OMGBTC', 'OMGETH', 'ZRXBTC', 'ZRXETH', 'STRATBTC', 'STRATETH', 'SNGLSBTC', 'SNGLSETH', 'BQXBTC', 'BQXETH', 'KNCBTC', 'KNCETH', 'FUNBTC', 'FUNETH', 'SNMBTC', 'SNMETH', 'NEOETH', 'IOTABTC', 'IOTAETH', 'LINKBTC', 'LINKETH', 'XVGBTC', 'XVGETH', 'SALTBTC', 'SALTETH', 'MDABTC', 'MDAETH', 'MTLBTC', 'MTLETH', 'SUBBTC', 'SUBETH', 'EOSBTC', 'SNTBTC', 'ETCETH', 'ETCBTC', 'MTHBTC', 'MTHETH', 'ENGBTC', 'ENGETH', 'DNTBTC', 'ZECBTC', 'ZECETH', 'BNTBTC', 'ASTBTC', 'ASTETH', 'DASHBTC', 'DASHETH', 'OAXBTC', 'ICNBTC', 'BTGBTC', 'BTGETH', 'EVXBTC', 'EVXETH', 'REQBTC', 'REQETH', 'VIBBTC', 'VIBETH', 'HSRETH', 'TRXBTC', 'TRXETH', 'POWRBTC', 'POWRETH', 'ARKBTC', 'ARKETH', 'YOYOETH', 'XRPBTC', 'XRPETH', 'MODBTC', 'MODETH', 'ENJBTC', 'ENJETH', 'STORJBTC', 'STORJETH', 'BNBUSDT', 'VENBNB', 'YOYOBNB', 'POWRBNB', 'VENBTC', 'VENETH', 'KMDBTC', 'KMDETH', 'NULSBNB', 'RCNBTC', 'RCNETH', 'RCNBNB', 'NULSBTC', 'NULSETH', 'RDNBTC', 'RDNETH', 'RDNBNB', 'XMRBTC', 'XMRETH', 'DLTBNB', 'WTCBNB', 'DLTBTC', 'DLTETH', 'AMBBTC', 'AMBETH', 'AMBBNB', 'BCCETH', 'BCCUSDT', 'BCCBNB', 'BATBTC', 'BATETH', 'BATBNB', 'BCPTBTC', 'BCPTETH', 'BCPTBNB', 'ARNBTC', 'ARNETH', 'GVTBTC', 'GVTETH', 'CDTBTC', 'CDTETH', 'GXSBTC', 'GXSETH', 'NEOUSDT', 'NEOBNB', 'POEBTC', 'POEETH', 'QSPBTC', 'QSPETH', 'QSPBNB', 'BTSBTC', 'BTSETH', 'BTSBNB', 'XZCBTC', 'XZCETH', 'XZCBNB', 'LSKBTC', 'LSKETH', 'LSKBNB', 'TNTBTC', 'TNTETH', 'FUELBTC', 'FUELETH', 'MANABTC', 'MANAETH', 'BCDBTC', 'BCDETH', 'DGDBTC', 'DGDETH', 'IOTABNB', 'ADXBTC', 'ADXETH', 'ADXBNB', 'ADABTC', 'ADAETH', 'PPTBTC', 'PPTETH', 'CMTBTC', 'CMTETH', 'CMTBNB', 'XLMBTC', 'XLMETH', 'XLMBNB', 'CNDBTC', 'CNDETH', 'CNDBNB', 'LENDBTC', 'LENDETH', 'WABIBTC', 'WABIETH', 'WABIBNB', 'LTCETH', 'LTCUSDT', 'LTCBNB', 'TNBBTC', 'TNBETH', 'WAVESBTC', 'WAVESETH', 'WAVESBNB', 'GTOBTC', 'GTOETH', 'GTOBNB', 'ICXBTC', 'ICXETH', 'ICXBNB', 'OSTBTC', 'OSTETH', 'OSTBNB', 'ELFBTC', 'ELFETH', 'AIONBTC', 'AIONETH', 'AIONBNB', 'NEBLBTC', 'NEBLBNB', 'BRDBTC', 'BRDETH', 'BRDBNB', 'MCOBNB', 'EDOBTC', 'EDOETH', 'WINGSBTC', 'WINGSETH', 'NAVBTC', 'NAVETH', 'NAVBNB', 'LUNBTC', 'LUNETH', 'TRIGBTC', 'TRIGETH', 'TRIGBNB', 'APPCBTC', 'APPCETH', 'APPCBNB', 'VIBEBTC', 'VIBEETH', 'RLCBTC', 'RLCETH', 'RLCBNB', 'INSBTC', 'INSETH', 'PIVXBTC', 'PIVXBNB', 'IOSTBTC', 'IOSTETH', 'CHATBTC', 'CHATETH', 'STEEMBTC', 'STEEMETH', 'STEEMBNB', 'NANOBTC', 'NANOETH', 'NANOBNB', 'VIABTC', 'VIAETH', 'VIABNB', 'BLZBTC', 'BLZETH', 'BLZBNB', 'AEBTC', 'AEETH', 'AEBNB', 'RPXBTC', 'RPXETH', 'RPXBNB', 'NCASHBTC', 'NCASHETH', 'NCASHBNB', 'POABTC', 'POAETH', 'POABNB', 'ZILBTC', 'ZILETH', 'ZILBNB', 'ONTBTC', 'ONTETH', 'ONTBNB', 'STORMBTC', 'STORMETH', 'STORMBNB', 'QTUMBNB', 'QTUMUSDT', 'XEMBTC', 'XEMETH', 'XEMBNB', 'WANBTC', 'WANETH', 'WANBNB', 'WPRBTC', 'WPRETH', 'QLCBTC', 'QLCETH', 'SYSBTC', 'SYSETH', 'SYSBNB', 'QLCBNB', 'GRSBTC', 'GRSETH', 'ADAUSDT', 'ADABNB', 'CLOAKBTC', 'CLOAKETH', 'GNTBTC', 'GNTETH', 'GNTBNB', 'LOOMBTC', 'LOOMETH', 'LOOMBNB', 'XRPUSDT', 'BCNBTC', 'BCNETH', 'BCNBNB', 'REPBTC', 'REPBNB', 'BTCTUSD', 'TUSDBTC', 'ETHTUSD', 'TUSDETH', 'TUSDBNB', 'ZENBTC', 'ZENETH', 'ZENBNB', 'SKYBTC', 'SKYETH', 'SKYBNB', 'EOSUSDT', 'EOSBNB', 'CVCBTC', 'CVCETH', 'CVCBNB', 'THETABTC', 'THETAETH', 'THETABNB', 'XRPBNB', 'TUSDUSDT', 'IOTAUSDT', 'XLMUSDT', 'IOTXBTC', 'IOTXETH', 'QKCBTC', 'QKCETH', 'AGIBTC', 'AGIETH', 'AGIBNB', 'NXSBTC', 'NXSETH', 'NXSBNB', 'ENJBNB', 'DATABTC', 'DATAETH', 'ONTUSDT', 'TRXBNB', 'TRXUSDT', 'ETCUSDT', 'ETCBNB', 'ICXUSDT', 'SCBTC', 'SCETH', 'NPXSBTC', 'NPXSETH', 'VENUSDT', 'KEYBTC', 'KEYETH', 'NASBTC', 'NASETH', 'NASBNB', 'MFTBTC', 'MFTETH', 'MFTBNB', 'DENTBTC', 'DENTETH', 'ARDRBTC', 'ARDRETH', 'ARDRBNB', 'NULSUSDT', 'HOTBTC', 'HOTETH', 'VETBTC', 'VETETH', 'VETUSDT', 'VETBNB', 'DOCKBTC', 'DOCKETH', 'POLYBTC', 'POLYBNB', 'PHXBTC', 'PHXETH', 'PHXBNB', 'HCBTC', 'HCETH', 'GOBTC', 'GOBNB', 'PAXBTC', 'PAXBNB', 'PAXUSDT', 'PAXETH', 'RVNBTC', 'DCRBTC', 'DCRBNB', 'USDCBNB', 'MITHBTC', 'MITHBNB', 'BCHABCBTC', 'BCHSVBTC', 'BCHABCUSDT', 'BCHSVUSDT', 'BNBPAX', 'BTCPAX', 'ETHPAX', 'XRPPAX', 'EOSPAX', 'XLMPAX', 'RENBTC', 'RENBNB', 'BNBTUSD', 'XRPTUSD', 'EOSTUSD', 'XLMTUSD', 'BNBUSDC', 'BTCUSDC', 'ETHUSDC', 'XRPUSDC', 'EOSUSDC', 'XLMUSDC', 'USDCUSDT', 'ADATUSD', 'TRXTUSD', 'NEOTUSD', 'TRXXRP', 'XZCXRP', 'PAXTUSD', 'USDCTUSD', 'USDCPAX', 'LINKUSDT', 'LINKTUSD', 'LINKPAX', 'LINKUSDC', 'WAVESUSDT', 'WAVESTUSD', 'WAVESPAX', 'WAVESUSDC', 'BCHABCTUSD', 'BCHABCPAX', 'BCHABCUSDC', 'BCHSVTUSD', 'BCHSVPAX', 'BCHSVUSDC', 'LTCTUSD', 'LTCPAX', 'LTCUSDC', 'TRXPAX', 'TRXUSDC', 'BTTBTC', 'BTTBNB', 'BTTUSDT', 'BNBUSDS', 'BTCUSDS', 'USDSUSDT', 'USDSPAX', 'USDSTUSD', 'USDSUSDC', 'BTTPAX', 'BTTTUSD', 'BTTUSDC', 'ONGBNB', 'ONGBTC', 'ONGUSDT', 'HOTBNB', 'HOTUSDT', 'ZILUSDT', 'ZRXBNB', 'ZRXUSDT', 'FETBNB', 'FETBTC', 'FETUSDT', 'BATUSDT', 'XMRBNB', 'XMRUSDT', 'ZECBNB', 'ZECUSDT', 'ZECPAX', 'ZECTUSD', 'ZECUSDC', 'IOSTUSDT', 'CELRBNB', 'CELRBTC', 'CELRUSDT', 'ADAPAX', 'ADAUSDC', 'NEOPAX', 'NEOUSDC', 'DASHBNB', 'DASHUSDT', 'NANOUSDT', 'OMGBNB', 'OMGUSDT', 'THETAUSDT', 'ENJUSDT', 'MITHUSDT', 'MATICBNB', 'MATICBTC', 'MATICUSDT', 'ATOMBNB', 'ATOMBTC', 'ATOMUSDT', 'ATOMUSDC', 'ATOMPAX', 'ATOMTUSD', 'ETCUSDC', 'ETCPAX', 'ETCTUSD', 'BATUSDC', 'BATPAX', 'BATTUSD', 'PHBBNB', 'PHBBTC', 'PHBUSDC', 'PHBTUSD', 'PHBPAX', 'TFUELBNB', 'TFUELBTC', 'TFUELUSDT', 'TFUELUSDC', 'TFUELTUSD', 'TFUELPAX', 'ONEBNB', 'ONEBTC', 'ONEUSDT', 'ONETUSD', 'ONEPAX', 'ONEUSDC', 'FTMBNB', 'FTMBTC', 'FTMUSDT', 'FTMTUSD', 'FTMPAX', 'FTMUSDC', 'BTCBBTC', 'BCPTTUSD', 'BCPTPAX', 'BCPTUSDC', 'ALGOBNB', 'ALGOBTC', 'ALGOUSDT', 'ALGOTUSD', 'ALGOPAX', 'ALGOUSDC', 'USDSBUSDT', 'USDSBUSDS', 'GTOUSDT', 'GTOPAX', 'GTOTUSD', 'GTOUSDC', 'ERDBNB', 'ERDBTC', 'ERDUSDT', 'ERDPAX', 'ERDUSDC', 'DOGEBNB', 'DOGEBTC', 'DOGEUSDT', 'DOGEPAX', 'DOGEUSDC', 'DUSKBNB', 'DUSKBTC', 'DUSKUSDT', 'DUSKUSDC', 'DUSKPAX', 'BGBPUSDC', 'ANKRBNB', 'ANKRBTC', 'ANKRUSDT', 'ANKRTUSD', 'ANKRPAX', 'ANKRUSDC', 'ONTPAX', 'ONTUSDC', 'WINBNB', 'WINBTC', 'WINUSDT', 'WINUSDC', 'COSBNB', 'COSBTC', 'COSUSDT', 'TUSDBTUSD', 'NPXSUSDT', 'NPXSUSDC', 'COCOSBNB', 'COCOSBTC', 'COCOSUSDT', 'MTLUSDT', 'TOMOBNB', 'TOMOBTC', 'TOMOUSDT', 'TOMOUSDC', 'PERLBNB', 'PERLBTC', 'PERLUSDC', 'PERLUSDT', 'DENTUSDT', 'MFTUSDT', 'KEYUSDT', 'STORMUSDT', 'DOCKUSDT', 'WANUSDT', 'FUNUSDT', 'CVCUSDT', 'BTTTRX', 'WINTRX', 'CHZBNB', 'CHZBTC', 'CHZUSDT', 'BANDBNB', 'BANDBTC', 'BANDUSDT', 'BNBBUSD', 'BTCBUSD', 'BUSDUSDT', 'BEAMBNB', 'BEAMBTC', 'BEAMUSDT', 'XTZBNB', 'XTZBTC', 'XTZUSDT', 'RENUSDT', 'RVNUSDT', 'HCUSDT', 'HBARBNB', 'HBARBTC', 'HBARUSDT', 'NKNBNB', 'NKNBTC', 'NKNUSDT', 'XRPBUSD', 'ETHBUSD', 'BCHABCBUSD', 'LTCBUSD', 'LINKBUSD', 'ETCBUSD', 'STXBNB', 'STXBTC', 'STXUSDT', 'KAVABNB', 'KAVABTC', 'KAVAUSDT', 'BUSDNGN', 'BNBNGN', 'BTCNGN', 'ARPABNB', 'ARPABTC', 'ARPAUSDT', 'TRXBUSD', 'EOSBUSD', 'IOTXUSDT', 'RLCUSDT', 'MCOUSDT', 'XLMBUSD', 'ADABUSD', 'CTXCBNB', 'CTXCBTC', 'CTXCUSDT', 'BCHBNB', 'BCHBTC', 'BCHUSDT', 'BCHUSDC', 'BCHTUSD', 'BCHPAX', 'BCHBUSD', 'BTCRUB', 'ETHRUB', 'XRPRUB', 'BNBRUB', 'TROYBNB', 'TROYBTC', 'TROYUSDT', 'BUSDRUB', 'QTUMBUSD', 'VETBUSD', 'VITEBNB', 'VITEBTC', 'VITEUSDT', 'FTTBNB', 'FTTBTC', 'FTTUSDT', 'BTCTRY', 'BNBTRY', 'BUSDTRY', 'ETHTRY', 'XRPTRY', 'USDTTRY', 'USDTRUB', 'BTCEUR', 'ETHEUR', 'BNBEUR', 'XRPEUR', 'EURBUSD', 'EURUSDT', 'OGNBNB', 'OGNBTC', 'OGNUSDT', 'DREPBNB', 'DREPBTC', 'DREPUSDT', 'BULLUSDT', 'BULLBUSD', 'BEARUSDT', 'BEARBUSD', 'ETHBULLUSDT', 'ETHBULLBUSD', 'ETHBEARUSDT', 'ETHBEARBUSD', 'TCTBNB', 'TCTBTC', 'TCTUSDT', 'WRXBNB', 'WRXBTC', 'WRXUSDT', 'ICXBUSD', 'BTSUSDT', 'BTSBUSD', 'LSKUSDT', 'BNTUSDT', 'BNTBUSD', 'LTOBNB', 'LTOBTC', 'LTOUSDT', 'ATOMBUSD', 'DASHBUSD', 'NEOBUSD', 'WAVESBUSD', 'XTZBUSD', 'EOSBULLUSDT', 'EOSBULLBUSD', 'EOSBEARUSDT', 'EOSBEARBUSD', 'XRPBULLUSDT', 'XRPBULLBUSD', 'XRPBEARUSDT', 'XRPBEARBUSD', 'BATBUSD', 'ENJBUSD', 'NANOBUSD', 'ONTBUSD', 'RVNBUSD', 'STRATBUSD', 'STRATBNB', 'STRATUSDT', 'AIONBUSD', 'AIONUSDT', 'MBLBNB', 'MBLBTC', 'MBLUSDT', 'COTIBNB', 'COTIBTC', 'COTIUSDT', 'ALGOBUSD', 'BTTBUSD', 'TOMOBUSD', 'XMRBUSD', 'ZECBUSD', 'BNBBULLUSDT', 'BNBBULLBUSD', 'BNBBEARUSDT', 'BNBBEARBUSD', 'STPTBNB', 'STPTBTC', 'STPTUSDT', 'BTCZAR', 'ETHZAR', 'BNBZAR', 'USDTZAR', 'BUSDZAR', 'BTCBKRW', 'ETHBKRW', 'BNBBKRW', 'WTCUSDT', 'DATABUSD', 'DATAUSDT', 'XZCUSDT', 'SOLBNB', 'SOLBTC', 'SOLUSDT', 'SOLBUSD', 'BTCIDRT', 'BNBIDRT', 'USDTIDRT', 'BUSDIDRT', 'CTSIBTC', 'CTSIUSDT', 'CTSIBNB', 'CTSIBUSD', 'HIVEBNB', 'HIVEBTC', 'HIVEUSDT', 'CHRBNB', 'CHRBTC', 'CHRUSDT', 'BTCUPUSDT', 'BTCDOWNUSDT', 'GXSUSDT', 'ARDRUSDT', 'ERDBUSD', 'LENDUSDT', 'HBARBUSD', 'MATICBUSD', 'WRXBUSD', 'ZILBUSD', 'MDTBNB', 'MDTBTC', 'MDTUSDT', 'STMXBTC', 'STMXETH', 'STMXUSDT', 'KNCBUSD', 'KNCUSDT', 'REPBUSD', 'REPUSDT', 'LRCBUSD', 'LRCUSDT', 'IQBNB', 'IQBUSD', 'PNTBTC', 'PNTUSDT', 'BTCGBP', 'ETHGBP', 'XRPGBP', 'BNBGBP', 'GBPBUSD', 'DGBBTC', 'DGBBUSD', 'BTCUAH', 'USDTUAH', 'COMPBTC', 'COMPBNB', 'COMPBUSD', 'COMPUSDT', 'BTCBIDR', 'ETHBIDR', 'BNBBIDR', 'BUSDBIDR', 'USDTBIDR', 'BKRWUSDT', 'BKRWBUSD', 'SCUSDT', 'ZENUSDT', 'SXPBTC', 'SXPBNB', 'SXPBUSD', 'SNXBTC', 'SNXBNB', 'SNXBUSD', 'SNXUSDT', 'ETHUPUSDT', 'ETHDOWNUSDT', 'ADAUPUSDT', 'ADADOWNUSDT', 'LINKUPUSDT', 'LINKDOWNUSDT', 'VTHOBNB', 'VTHOBUSD', 'VTHOUSDT', 'DCRBUSD', 'DGBUSDT', 'GBPUSDT', 'STORJBUSD', 'SXPUSDT', 'IRISBNB', 'IRISBTC', 'IRISBUSD', 'MKRBNB', 'MKRBTC', 'MKRUSDT', 'MKRBUSD', 'DAIBNB', 'DAIBTC', 'DAIUSDT', 'DAIBUSD', 'RUNEBNB', 'RUNEBTC', 'RUNEBUSD', 'MANABUSD', 'DOGEBUSD', 'LENDBUSD', 'ZRXBUSD', 'DCRUSDT', 'STORJUSDT', 'XRPBKRW', 'ADABKRW', 'BTCAUD', 'ETHAUD', 'AUDBUSD', 'FIOBNB', 'FIOBTC', 'FIOBUSD', 'BNBUPUSDT', 'BNBDOWNUSDT', 'XTZUPUSDT', 'XTZDOWNUSDT', 'AVABNB', 'AVABTC', 'AVABUSD', 'USDTBKRW', 'BUSDBKRW', 'IOTABUSD', 'MANAUSDT', 'XRPAUD', 'BNBAUD', 'AUDUSDT', 'BALBNB', 'BALBTC', 'BALBUSD', 'YFIBNB', 'YFIBTC', 'YFIBUSD', 'YFIUSDT', 'BLZBUSD', 'KMDBUSD', 'BALUSDT', 'BLZUSDT', 'IRISUSDT', 'KMDUSDT', 'BTCDAI', 'ETHDAI', 'BNBDAI', 'USDTDAI', 'BUSDDAI', 'JSTBNB', 'JSTBTC', 'JSTBUSD', 'JSTUSDT', 'SRMBNB', 'SRMBTC', 'SRMBUSD', 'SRMUSDT', 'ANTBNB', 'ANTBTC', 'ANTBUSD', 'ANTUSDT', 'CRVBNB', 'CRVBTC', 'CRVBUSD', 'CRVUSDT', 'SANDBNB', 'SANDBTC', 'SANDUSDT', 'SANDBUSD', 'OCEANBNB', 'OCEANBTC', 'OCEANBUSD', 'OCEANUSDT', 'NMRBTC', 'NMRBUSD', 'NMRUSDT', 'DOTBNB', 'DOTBTC', 'DOTBUSD', 'DOTUSDT', 'LUNABNB', 'LUNABTC', 'LUNABUSD', 'LUNAUSDT', 'IDEXBTC', 'IDEXBUSD', 'RSRBNB', 'RSRBTC', 'RSRBUSD', 'RSRUSDT', 'PAXGBNB', 'PAXGBTC', 'PAXGBUSD', 'PAXGUSDT', 'WNXMBNB', 'WNXMBTC', 'WNXMBUSD', 'WNXMUSDT', 'TRBBNB', 'TRBBTC', 'TRBBUSD', 'TRBUSDT', 'ETHNGN', 'DOTBIDR', 'LINKAUD', 'SXPAUD', 'BZRXBNB', 'BZRXBTC', 'BZRXBUSD', 'BZRXUSDT', 'WBTCBTC', 'WBTCETH', 'SUSHIBNB', 'SUSHIBTC', 'SUSHIBUSD', 'SUSHIUSDT', 'YFIIBNB', 'YFIIBTC', 'YFIIBUSD', 'YFIIUSDT', 'KSMBNB', 'KSMBTC', 'KSMBUSD', 'KSMUSDT', 'EGLDBNB', 'EGLDBTC', 'EGLDBUSD', 'EGLDUSDT', 'DIABNB', 'DIABTC', 'DIABUSD', 'DIAUSDT', 'RUNEUSDT', 'FIOUSDT', 'UMABTC', 'UMAUSDT', 'EOSUPUSDT', 'EOSDOWNUSDT', 'TRXUPUSDT', 'TRXDOWNUSDT', 'XRPUPUSDT', 'XRPDOWNUSDT', 'DOTUPUSDT', 'DOTDOWNUSDT', 'SRMBIDR', 'ONEBIDR', 'LINKTRY', 'USDTNGN', 'BELBNB', 'BELBTC', 'BELBUSD', 'BELUSDT', 'WINGBNB', 'WINGBTC', 'SWRVBNB', 'SWRVBUSD', 'WINGBUSD', 'WINGUSDT', 'LTCUPUSDT', 'LTCDOWNUSDT', 'LENDBKRW', 'SXPEUR', 'CREAMBNB', 'CREAMBUSD', 'UNIBNB', 'UNIBTC', 'UNIBUSD', 'UNIUSDT', 'NBSBTC', 'NBSUSDT', 'OXTBTC', 'OXTUSDT', 'SUNBTC', 'SUNUSDT', 'AVAXBNB', 'AVAXBTC', 'AVAXBUSD', 'AVAXUSDT', 'HNTBTC', 'HNTUSDT', 'BAKEBNB', 'BURGERBNB', 'SXPBIDR', 'LINKBKRW', 'FLMBNB', 'FLMBTC', 'FLMBUSD', 'FLMUSDT', 'SCRTBTC', 'SCRTETH', 'CAKEBNB', 'CAKEBUSD', 'SPARTABNB', 'UNIUPUSDT', 'UNIDOWNUSDT', 'ORNBTC', 'ORNUSDT', 'TRXNGN', 'SXPTRY', 'UTKBTC', 'UTKUSDT', 'XVSBNB', 'XVSBTC', 'XVSBUSD', 'XVSUSDT', 'ALPHABNB', 'ALPHABTC', 'ALPHABUSD', 'ALPHAUSDT', 'VIDTBTC', 'VIDTBUSD', 'AAVEBNB', 'BTCBRL', 'USDTBRL', 'AAVEBTC', 'AAVEETH', 'AAVEBUSD', 'AAVEUSDT', 'AAVEBKRW', 'NEARBNB', 'NEARBTC', 'NEARBUSD', 'NEARUSDT', 'SXPUPUSDT', 'SXPDOWNUSDT', 'DOTBKRW', 'SXPGBP', 'FILBNB', 'FILBTC', 'FILBUSD', 'FILUSDT', 'FILUPUSDT', 'FILDOWNUSDT', 'YFIUPUSDT', 'YFIDOWNUSDT', 'INJBNB', 'INJBTC', 'INJBUSD', 'INJUSDT', 'AERGOBTC', 'AERGOBUSD', 'LINKEUR', 'ONEBUSD', 'EASYETH', 'AUDIOBTC', 'AUDIOBUSD', 'AUDIOUSDT', 'CTKBNB', 'CTKBTC', 'CTKBUSD', 'CTKUSDT', 'BCHUPUSDT', 'BCHDOWNUSDT', 'BOTBTC', 'BOTBUSD', 'ETHBRL', 'DOTEUR', 'AKROBTC', 'AKROUSDT', 'KP3RBNB', 'KP3RBUSD', 'AXSBNB', 'AXSBTC', 'AXSBUSD', 'AXSUSDT', 'HARDBNB', 'HARDBTC', 'HARDBUSD', 'HARDUSDT', 'BNBBRL', 'LTCEUR', 'RENBTCBTC', 'RENBTCETH', 'DNTBUSD', 'DNTUSDT', 'SLPETH', 'ADAEUR', 'LTCNGN', 'CVPETH', 'CVPBUSD', 'STRAXBTC', 'STRAXETH', 'STRAXBUSD', 'STRAXUSDT', 'FORBTC', 'FORBUSD', 'UNFIBNB', 'UNFIBTC', 'UNFIBUSD', 'UNFIUSDT', 'FRONTETH', 'FRONTBUSD', 'BCHABUSD', 'ROSEBTC', 'ROSEBUSD', 'ROSEUSDT', 'AVAXTRY', 'BUSDBRL', 'AVAUSDT', 'SYSBUSD', 'XEMUSDT', 'HEGICETH', 'HEGICBUSD', 'AAVEUPUSDT', 'AAVEDOWNUSDT', 'PROMBNB', 'PROMBUSD', 'XRPBRL', 'XRPNGN', 'SKLBTC', 'SKLBUSD', 'SKLUSDT', 'BCHEUR', 'YFIEUR', 'ZILBIDR', 'SUSDBTC', 'SUSDETH', 'SUSDUSDT', 'COVERETH', 'COVERBUSD', 'GLMBTC', 'GLMETH', 'GHSTETH', 'GHSTBUSD', 'SUSHIUPUSDT', 'SUSHIDOWNUSDT', 'XLMUPUSDT', 'XLMDOWNUSDT', 'LINKBRL', 'LINKNGN', 'LTCRUB', 'TRXTRY', 'XLMEUR', 'DFETH', 'DFBUSD', 'GRTBTC', 'GRTETH', 'GRTUSDT', 'JUVBTC', 'JUVBUSD', 'JUVUSDT', 'PSGBTC', 'PSGBUSD', 'PSGUSDT', 'BUSDBVND', 'USDTBVND', '1INCHBTC', '1INCHUSDT', 'REEFBTC', 'REEFUSDT', 'OGBTC', 'OGUSDT', 'ATMBTC', 'ATMUSDT', 'ASRBTC', 'ASRUSDT', 'CELOBTC', 'CELOUSDT', 'RIFBTC', 'RIFUSDT', 'CHZTRY', 'XLMTRY', 'LINKGBP', 'GRTEUR', 'BTCSTBTC', 'BTCSTBUSD', 'BTCSTUSDT', 'TRUBTC', 'TRUBUSD', 'TRUUSDT', 'DEXEETH', 'DEXEBUSD', 'EOSEUR', 'LTCBRL', 'USDCBUSD', 'TUSDBUSD', 'PAXBUSD', 'CKBBTC', 'CKBBUSD', 'CKBUSDT', 'TWTBTC', 'TWTBUSD', 'TWTUSDT', 'FIROBTC', 'FIROETH', 'FIROUSDT', 'BETHETH', 'DOGEEUR', 'DOGETRY', 'DOGEAUD', 'DOGEBRL', 'DOTNGN', 'PROSETH', 'LITBTC', 'LITBUSD', 'LITUSDT', 'BTCVAI', 'BUSDVAI', 'SFPBTC', 'SFPBUSD', 'SFPUSDT', 'DOGEGBP', 'DOTTRY', 'FXSBTC', 'FXSBUSD', 'DODOBTC', 'DODOBUSD', 'DODOUSDT', 'FRONTBTC', 'EASYBTC', 'CAKEBTC', 'CAKEUSDT', 'BAKEBUSD', 'UFTETH', 'UFTBUSD', '1INCHBUSD', 'BANDBUSD', 'GRTBUSD', 'IOSTBUSD', 'OMGBUSD', 'REEFBUSD', 'ACMBTC', 'ACMBUSD', 'ACMUSDT', 'AUCTIONBTC', 'AUCTIONBUSD', 'PHABTC', 'PHABUSD', 'DOTGBP', 'ADATRY', 'ADABRL', 'ADAGBP', 'TVKBTC', 'TVKBUSD', 'BADGERBTC', 'BADGERBUSD', 'BADGERUSDT', 'FISBTC', 'FISBUSD', 'FISUSDT', 'DOTBRL', 'ADAAUD', 'HOTTRY', 'EGLDEUR', 'OMBTC', 'OMBUSD', 'OMUSDT', 'PONDBTC', 'PONDBUSD', 'PONDUSDT', 'DEGOBTC', 'DEGOBUSD', 'DEGOUSDT', 'AVAXEUR', 'BTTTRY', 'CHZBRL', 'UNIEUR', 'ALICEBTC', 'ALICEBUSD', 'ALICEUSDT', 'CHZBUSD', 'CHZEUR', 'CHZGBP', 'BIFIBNB', 'BIFIBUSD', 'LINABTC', 'LINABUSD', 'LINAUSDT', 'ADARUB', 'ENJBRL', 'ENJEUR', 'MATICEUR', 'NEOTRY', 'PERPBTC', 'PERPBUSD', 'PERPUSDT', 'RAMPBTC', 'RAMPBUSD', 'RAMPUSDT', 'SUPERBTC', 'SUPERBUSD', 'SUPERUSDT', 'CFXBTC', 'CFXBUSD', 'CFXUSDT', 'ENJGBP', 'EOSTRY', 'LTCGBP', 'LUNAEUR', 'RVNTRY', 'THETAEUR', 'XVGBUSD', 'EPSBTC', 'EPSBUSD', 'EPSUSDT', 'AUTOBTC', 'AUTOBUSD', 'AUTOUSDT', 'TKOBTC', 'TKOBIDR', 'TKOBUSD', 'TKOUSDT', 'PUNDIXETH', 'PUNDIXUSDT', 'BTTBRL', 'BTTEUR', 'HOTEUR', 'WINEUR', 'TLMBTC', 'TLMBUSD', 'TLMUSDT', '1INCHUPUSDT', '1INCHDOWNUSDT', 'BTGBUSD', 'BTGUSDT', 'HOTBUSD', 'BNBUAH', 'ONTTRY', 'VETEUR', 'VETGBP', 'WINBRL', 'MIRBTC', 'MIRBUSD', 'MIRUSDT', 'BARBTC', 'BARBUSD', 'BARUSDT', 'FORTHBTC', 'FORTHBUSD', 'FORTHUSDT', 'CAKEGBP', 'DOGERUB', 'HOTBRL', 'WRXEUR', 'EZBTC', 'EZETH', 'BAKEUSDT', 'BURGERBUSD', 'BURGERUSDT', 'SLPBUSD', 'SLPUSDT', 'TRXAUD', 'TRXEUR', 'VETTRY', 'SHIBUSDT', 'SHIBBUSD', 'ICPBTC', 'ICPBNB', 'ICPBUSD', 'ICPUSDT', 'SHIBEUR', 'SHIBRUB', 'ETCEUR', 'ETCBRL', 'DOGEBIDR', 'ARBTC', 'ARBNB', 'ARBUSD', 'ARUSDT', 'POLSBTC', 'POLSBNB', 'POLSBUSD', 'POLSUSDT', 'MDXBTC', 'MDXBNB', 'MDXBUSD', 'MDXUSDT', 'MASKBNB', 'MASKBUSD', 'MASKUSDT', 'LPTBTC', 'LPTBNB', 'LPTBUSD', 'LPTUSDT', 'ETHUAH', 'MATICBRL', 'SOLEUR', 'SHIBBRL', 'AGIXBTC', 'ICPEUR', 'MATICGBP', 'SHIBTRY', 'MATICBIDR', 'MATICRUB', 'NUBTC', 'NUBNB', 'NUBUSD', 'NUUSDT', 'XVGUSDT', 'RLCBUSD', 'CELRBUSD', 'ATMBUSD', 'ZENBUSD', 'FTMBUSD', 'THETABUSD', 'WINBUSD', 'KAVABUSD', 'XEMBUSD', 'ATABTC', 'ATABNB', 'ATABUSD', 'ATAUSDT', 'GTCBTC', 'GTCBNB', 'GTCBUSD', 'GTCUSDT', 'TORNBTC', 'TORNBNB', 'TORNBUSD', 'TORNUSDT', 'MATICTRY', 'ETCGBP', 'SOLGBP', 'BAKEBTC', 'COTIBUSD', 'KEEPBTC', 'KEEPBNB', 'KEEPBUSD', 'KEEPUSDT', 'SOLTRY', 'RUNEGBP', 'SOLBRL', 'SCBUSD', 'CHRBUSD', 'STMXBUSD', 'HNTBUSD', 'FTTBUSD', 'DOCKBUSD', 'ADABIDR', 'ERNBNB', 'ERNBUSD', 'ERNUSDT', 'KLAYBTC', 'KLAYBNB', 'KLAYBUSD', 'KLAYUSDT', 'RUNEEUR', 'MATICAUD', 'DOTRUB', 'UTKBUSD', 'IOTXBUSD', 'PHAUSDT', 'SOLRUB', 'RUNEAUD', 'BUSDUAH', 'BONDBTC', 'BONDBNB', 'BONDBUSD', 'BONDUSDT', 'MLNBTC', 'MLNBNB', 'MLNBUSD', 'MLNUSDT', 'GRTTRY', 'CAKEBRL', 'ICPRUB', 'DOTAUD', 'AAVEBRL', 'EOSAUD', 'DEXEUSDT', 'LTOBUSD', 'ADXBUSD', 'QUICKBTC', 'QUICKBNB', 'QUICKBUSD', 'C98USDT', 'C98BUSD', 'C98BNB', 'C98BTC', 'CLVBTC', 'CLVBNB', 'CLVBUSD', 'CLVUSDT', 'QNTBTC', 'QNTBNB', 'QNTBUSD', 'QNTUSDT', 'FLOWBTC', 'FLOWBNB', 'FLOWBUSD', 'FLOWUSDT', 'XECBUSD', 'AXSBRL', 'AXSAUD', 'TVKUSDT', 'MINABTC', 'MINABNB', 'MINABUSD', 'MINAUSDT', 'RAYBNB', 'RAYBUSD', 'RAYUSDT', 'FARMBTC', 'FARMBNB', 'FARMBUSD', 'FARMUSDT', 'ALPACABTC', 'ALPACABNB', 'ALPACABUSD', 'ALPACAUSDT', 'TLMTRY', 'QUICKUSDT', 'ORNBUSD', 'MBOXBTC', 'MBOXBNB', 'MBOXBUSD', 'MBOXUSDT', 'VGXBTC', 'VGXETH', 'FORUSDT', 'REQUSDT', 'GHSTUSDT', 'TRURUB', 'FISBRL', 'WAXPUSDT', 'WAXPBUSD', 'WAXPBNB', 'WAXPBTC', 'TRIBEBTC', 'TRIBEBNB', 'TRIBEBUSD', 'TRIBEUSDT', 'GNOUSDT', 'GNOBUSD', 'GNOBNB', 'GNOBTC', 'ARPATRY', 'PROMBTC', 'MTLBUSD', 'OGNBUSD', 'XECUSDT', 'C98BRL', 'SOLAUD', 'XRPBIDR', 'POLYBUSD', 'ELFUSDT', 'DYDXUSDT', 'DYDXBUSD', 'DYDXBNB', 'DYDXBTC', 'ELFBUSD', 'POLYUSDT', 'IDEXUSDT', 'VIDTUSDT', 'SOLBIDR', 'BTCUSDP', 'ETHUSDP', 'BNBUSDP', 'USDPBUSD', 'USDPUSDT', 'GALAUSDT', 'GALABUSD', 'GALABNB', 'GALABTC', 'FTMBIDR', 'ALGOBIDR', 'CAKEAUD', 'KSMAUD', 'WAVESRUB', 'SUNBUSD', 'ILVUSDT', 'ILVBUSD', 'ILVBNB', 'ILVBTC', 'RENBUSD', 'YGGUSDT', 'YGGBUSD', 'YGGBNB', 'YGGBTC', 'STXBUSD', 'SYSUSDT', 'DFUSDT', 'SOLUSDC', 'ARPARUB', 'LTCUAH', 'FETBUSD', 'ARPABUSD', 'LSKBUSD', 'AVAXBIDR', 'ALICEBIDR', 'FIDAUSDT', 'FIDABUSD', 'FIDABNB', 'FIDABTC', 'DENTBUSD', 'FRONTUSDT', 'CVPUSDT', 'AGLDBTC', 'AGLDBNB', 'AGLDBUSD', 'AGLDUSDT', 'RADBTC', 'RADBNB', 'RADBUSD', 'RADUSDT', 'UNIAUD', 'HIVEBUSD', 'STPTBUSD', 'BETABTC', 'BETABNB', 'BETABUSD', 'BETAUSDT', 'SHIBAUD', 'RAREBTC', 'RAREBNB', 'RAREBUSD', 'RAREUSDT', 'AVAXBRL', 'AVAXAUD', 'LUNAAUD', 'TROYBUSD', 'AXSETH', 'FTMETH', 'SOLETH', 'SSVBTC', 'SSVETH', 'LAZIOTRY', 'LAZIOEUR', 'LAZIOBTC', 'LAZIOUSDT', 'CHESSBTC', 'CHESSBNB', 'CHESSBUSD', 'CHESSUSDT', 'FTMAUD', 'FTMBRL', 'SCRTBUSD', 'ADXUSDT', 'AUCTIONUSDT', 'CELOBUSD', 'FTMRUB', 'NUAUD', 'NURUB', 'REEFTRY', 'REEFBIDR', 'SHIBDOGE', 'DARUSDT', 'DARBUSD', 'DARBNB', 'DARBTC', 'BNXBTC', 'BNXBNB', 'BNXBUSD', 'BNXUSDT', 'RGTUSDT', 'RGTBTC', 'RGTBUSD', 'RGTBNB', 'LAZIOBUSD', 'OXTBUSD', 'MANATRY', 'ALGORUB', 'SHIBUAH', 'LUNABIDR', 'AUDUSDC', 'MOVRBTC', 'MOVRBNB', 'MOVRBUSD', 'MOVRUSDT', 'CITYBTC', 'CITYBNB', 'CITYBUSD', 'CITYUSDT', 'ENSBTC', 'ENSBNB', 'ENSBUSD', 'ENSUSDT', 'SANDETH', 'DOTETH', 'MATICETH', 'ANKRBUSD', 'SANDTRY', 'MANABRL', 'KP3RUSDT', 'QIUSDT', 'QIBUSD', 'QIBNB', 'QIBTC', 'PORTOBTC', 'PORTOUSDT', 'PORTOTRY', 'PORTOEUR', 'POWRUSDT', 'POWRBUSD', 'AVAXETH', 'SLPTRY', 'FISTRY', 'LRCTRY', 'CHRETH', 'FISBIDR', 'VGXUSDT', 'GALAETH', 'JASMYUSDT', 'JASMYBUSD', 'JASMYBNB', 'JASMYBTC', 'AMPBTC', 'AMPBNB', 'AMPBUSD', 'AMPUSDT', 'PLABTC', 'PLABNB', 'PLABUSD', 'PLAUSDT', 'PYRBTC', 'PYRBUSD', 'PYRUSDT', 'RNDRBTC', 'RNDRUSDT', 'RNDRBUSD', 'ALCXBTC', 'ALCXBUSD', 'ALCXUSDT', 'SANTOSBTC', 'SANTOSUSDT', 'SANTOSBRL', 'SANTOSTRY', 'MCBTC', 'MCBUSD', 'MCUSDT', 'BELTRY', 'COCOSBUSD', 'DENTTRY', 'ENJTRY', 'NEORUB', 'SANDAUD', 'SLPBIDR', 'ANYBTC', 'ANYBUSD', 'ANYUSDT', 'BICOBTC', 'BICOBUSD', 'BICOUSDT', 'FLUXBTC', 'FLUXBUSD', 'FLUXUSDT', 'ALICETRY', 'FXSUSDT', 'GALABRL', 'GALATRY', 'LUNATRY', 'REQBUSD', 'SANDBRL', 'MANABIDR', 'SANDBIDR', 'VOXELBTC', 'VOXELBNB', 'VOXELBUSD', 'VOXELUSDT', 'COSBUSD', 'CTXCBUSD', 'FTMTRY', 'MANABNB', 'MINATRY', 'XTZTRY', 'HIGHBTC', 'HIGHBUSD', 'HIGHUSDT', 'CVXBTC', 'CVXBUSD', 'CVXUSDT', 'PEOPLEBTC', 'PEOPLEBUSD', 'PEOPLEUSDT', 'OOKIBUSD', 'OOKIUSDT', 'COCOSTRY', 'GXSBNB', 'LINKBNB', 'LUNAETH', 'MDTBUSD', 'NULSBUSD', 'SPELLBTC', 'SPELLUSDT', 'SPELLBUSD', 'USTBTC', 'USTBUSD', 'USTUSDT', 'JOEBTC', 'JOEBUSD', 'JOEUSDT', 'ATOMETH', 'DUSKBUSD', 'EGLDETH', 'ICPETH', 'LUNABRL', 'LUNAUST', 'NEARETH', 'ROSEBNB', 'VOXELETH', 'ALICEBNB', 'ATOMTRY', 'ETHUST', 'GALAAUD', 'LRCBNB', 'ONEETH', 'OOKIBNB', 'ACHBTC', 'ACHBUSD', 'ACHUSDT', 'IMXBTC', 'IMXBUSD', 'IMXUSDT', 'GLMRBTC', 'GLMRBUSD', 'GLMRUSDT', 'ATOMBIDR', 'DYDXETH', 'FARMETH', 'FORBNB', 'ICPTRY', 'JASMYETH', 'LINABNB', 'OOKIETH', 'ROSEETH', 'UMABUSD', 'UNIETH', 'XTZETH', 'LOKABTC', 'LOKABNB', 'LOKABUSD', 'LOKAUSDT', 'ATOMBRL', 'BNBUST', 'CRVETH', 'HIGHBNB', 'NEARRUB', 'ROSETRY', 'SCRTUSDT', 'API3BTC', 'API3BUSD', 'API3USDT', 'BTTCUSDT', 'BTTCUSDC', 'BTTCTRY', 'ACABTC', 'ACABUSD', 'ACAUSDT', 'ANCBTC', 'ANCBUSD', 'ANCUSDT', 'BDOTDOT', 'XNOBTC', 'XNOETH', 'XNOBUSD', 'XNOUSDT', 'COSTRY', 'KAVAETH', 'MCBNB', 'ONETRY', 'WOOBTC', 'WOOBNB', 'WOOBUSD', 'WOOUSDT', 'CELRETH', 'PEOPLEBNB', 'SLPBNB', 'SPELLBNB', 'SPELLTRY', 'TFUELBUSD', 'AXSTRY', 'DARTRY', 'NEARTRY', 'IDEXBNB', 'ALPINEEUR', 'ALPINETRY', 'ALPINEUSDT', 'ALPINEBTC', 'TUSDT', 'TBUSD', 'API3BNB', 'BETAETH', 'INJTRY', 'TLMBNB', 'ASTRBUSD', 'ASTRUSDT', 'API3TRY', 'GLMRBNB', 'MBOXTRY', 'GMTBTC', 'GMTBNB', 'GMTBUSD', 'GMTUSDT', 'ANCBNB', 'ATOMEUR', 'GALAEUR', 'KSMETH', 'UMATRY', 'KDABTC', 'KDABUSD', 'KDAUSDT', 'APEUSDT', 'APEBUSD', 'APEBTC', 'ALPINEBUSD', 'LUNAGBP', 'NEAREUR', 'TWTTRY', 'WAVESEUR', 'APEEUR', 'APEGBP', 'APETRY', 'BSWUSDT', 'BSWBUSD', 'BSWBNB', 'APEBNB', 'GMTBRL', 'GMTETH', 'JASMYTRY', 'SANTOSBUSD', 'APEAUD', 'BIFIUSDT', 'GMTEUR', 'IMXBNB', 'RUNEETH', 'AVAXGBP', 'MULTIBTC', 'MULTIBUSD', 'MULTIUSDT', 'APEETH', 'BSWETH', 'FILTRY', 'FTMEUR', 'GMTGBP', 'ZILTRY', 'GMTTRY', 'WAVESTRY', 'BTCUST', 'ASTRBTC', 'ASTRETH', 'BSWTRY', 'FTTETH', 'FUNBNB', 'PORTOBUSD', 'STEEMUSDT', 'ZILEUR', 'APEBRL', 'AUDIOTRY', 'BTTCBUSD', 'GMTAUD', 'MBLBUSD', 'MOBUSDT', 'MOBBUSD', 'MOBBTC', 'NEXOUSDT', 'NEXOBUSD', 'NEXOBTC', 'REIUSDT', 'REIBNB', 'REIETH', 'GALUSDT', 'GALBUSD', 'GALBNB', 'GALBTC', 'JASMYEUR', 'KNCBNB', 'SHIBGBP', 'GALEUR', 'GALTRY', 'LDOBUSD', 'LDOUSDT', 'LDOBTC', 'ENSTRY', 'DAREUR', 'DARETH', 'ALGOETH', 'ALGOTRY', 'GALETH', 'EPXUSDT', 'EPXBUSD', 'RUNETRY', 'GALBRL', 'STEEMBUSD', 'CVCBUSD', 'REIBUSD', 'DREPBUSD', 'AKROBUSD', 'PUNDIXBUSD', 'LUNCBUSD', 'USTCBUSD', 'OPBTC', 'OPBUSD', 'OPUSDT', 'OGBUSD', 'KEYBUSD', 'ASRBUSD', 'FIROBUSD', 'NKNBUSD', 'OPBNB', 'OPEUR', 'GTOBUSD', 'SNXETH', 'WBTCBUSD', 'BELETH', 'LITETH', 'LEVERUSDT', 'LEVERBUSD', 'BURGERETH', 'PEOPLEETH', 'UNFIETH', 'BONDETH', 'STORJTRY', 'OPETH', 'ETCTRY', 'WINGETH', 'FILETH', 'GLMBUSD', 'SSVBUSD', 'STGBTC', 'STGBUSD', 'STGUSDT', 'ANKRTRY', 'ARKBUSD', 'BETHBUSD', 'LOOMBUSD', 'SNMBUSD', 'AMBBUSD', 'LUNCUSDT', 'PHBBUSD', 'GASBUSD', 'NEBLBUSD', 'PROSBUSD', 'VIBBUSD', 'GMXBTC', 'GMXBUSD', 'GMXUSDT', 'AGIXBUSD', 'NEBLUSDT', 'SNTBUSD', 'POLYXBTC', 'POLYXBUSD', 'POLYXUSDT', 'APTBTC', 'APTUSDT', 'APTBUSD', 'BTCPLN', 'ETHPLN', 'BUSDPLN', 'APTEUR', 'APTTRY', 'APTBRL', 'QKCBUSD', 'OSMOBTC', 'OSMOUSDT', 'OSMOBUSD', 'HFTBTC', 'HFTBUSD', 'HFTUSDT', 'ARPAETH', 'PHBUSDT', 'VITEBUSD', 'HOOKBTC', 'HOOKUSDT', 'HOOKBUSD', 'HOOKBNB', 'MAGICBTC', 'MAGICBUSD', 'MAGICUSDT', 'BUSDRON', 'HIFIETH', 'HIFIUSDT', 'RPLBTC', 'RPLBUSD', 'RPLUSDT', 'PROSUSDT', 'FETTRY', 'GFTBUSD', 'AGIXUSDT', 'APTETH', 'BTCRON', 'GNSUSDT', 'GNSBTC', 'SYNBTC', 'SYNUSDT', 'VIBUSDT', 'SSVUSDT', 'LQTYUSDT', 'LQTYBTC', 'AMBUSDT', 'BETHUSDT', 'CFXTRY', 'STXTRY', 'USTCUSDT', 'GASUSDT', 'GLMUSDT', 'PROMUSDT', 'QKCUSDT', 'UFTUSDT', 'IDBTC', 'IDBNB', 'IDUSDT', 'ARBBTC', 'ARBUSDT', 'AGIXTRY', 'LOOMUSDT', 'OAXUSDT', 'ARBTUSD', 'ARBTRY', 'ARBEUR', 'IDTUSD', 'IDTRY', 'IDEUR', 'LDOTUSD', 'MATICTUSD', 'OPTUSD', 'SOLTUSD', 'SSVTUSD', 'RDNTBTC', 'RDNTUSDT', 'RDNTTUSD', 'ARBRUB', 'JOETRY', 'MAGICTRY', 'USDTPLN', 'ACHTRY', 'XVSTRY', 'EGLDRON', 'USDTRON', 'USDTARS', 'DOGETUSD', 'WBTCUSDT', 'EDUUSDT', 'EDUTUSD', 'EDUBNB', 'EDUBTC', 'EDUEUR', 'EDUTRY', 'SUIUSDT', 'SUITUSD', 'SUIBTC', 'SUIBNB', 'SUIEUR', 'SUITRY', 'AERGOUSDT', 'RNDRTRY', 'PEPEUSDT', 'PEPETUSD', 'FLOKIUSDT', 'FLOKITUSD', 'OGTRY', 'PEPETRY', 'WBETHETH', 'ASTUSDT', 'SNTUSDT', 'FLOKITRY', 'CITYTRY', 'COMBOUSDT', 'COMBOBNB', 'COMBOTRY', 'LTCTRY', 'RADTRY', 'BTCARS', 'OPTRY', 'PAXGTRY', 'MAVBTC', 'MAVUSDT', 'MAVTUSD', 'CFXTUSD', 'PENDLEBTC', 'PENDLEUSDT', 'PENDLETUSD', 'MAVTRY', 'OCEANTRY', 'TUSDTRY', 'ARBETH', 'BCHTRY', 'XVGTRY', 'XVGTUSD', 'ARKMUSDT', 'ARKMTUSD', 'ARKMTRY', 'ARKMBNB', 'ARKMBTC', 'WBETHUSDT', 'ACATRY', 'AVAXTUSD', 'COMPTUSD', 'COMPTRY', 'XECTRY', 'QUICKTUSD', 'WLDUSDT', 'WLDBTC', 'BNBFDUSD', 'FDUSDBUSD', 'FDUSDUSDT', 'ARKMRUB', 'WLDTRY', 'WLDRUB', 'AMPTRY', 'OGNTRY', 'BTCFDUSD', 'ETHFDUSD', 'ASRTRY', 'ATMTRY', 'ACMTRY', 'BARTRY', 'JUVTRY', 'PSGTRY', 'SEIBNB', 'SEIBTC', 'SEIFDUSD', 'SEITRY', 'SEIUSDT', 'CYBERBNB', 'CYBERBTC', 'CYBERFDUSD', 'CYBERTRY', 'CYBERUSDT', 'CYBERTUSD', 'SEITUSD', 'LPTTRY', 'UNITRY', 'SOLFDUSD', 'TOMOTRY', 'UNFITRY', 'XRPFDUSD', 'DOGEFDUSD', 'CYBERETH', 'MTLTRY', 'ARKUSDT', 'CREAMUSDT', 'GFTUSDT', 'IQUSDT', 'USDTVAI', 'ARBFDUSD', 'FDUSDTRY', 'FRONTTRY', 'SUIFDUSD', 'NTRNBTC', 'NTRNUSDT', 'NTRNBNB', 'FILFDUSD', 'FRONTTUSD', 'LEVERTRY', 'LTCFDUSD', 'ADAFDUSD', 'RUNETUSD', 'TRBTRY', 'ATOMFDUSD', 'AVAXFDUSD', 'BANDTRY', 'BCHFDUSD', 'LOOMTRY', 'MATICFDUSD', 'ALGOFDUSD', 'DOTFDUSD', 'FTMFDUSD', 'LINKFDUSD', 'NEARFDUSD', 'STRAXTRY', 'TIABTC', 'TIAUSDT', 'TIATRY', 'MEMEBNB', 'MEMEUSDT', 'MEMEFDUSD', 'MEMETUSD', 'MEMETRY', 'ORDIBTC', 'ORDIUSDT', 'ORDITRY', 'EGLDFDUSD', 'FETFDUSD', 'GASFDUSD', 'INJETH', 'INJTUSD', 'OPFDUSD', 'ORDIFDUSD', 'ORDITUSD', 'RNDRFDUSD', 'SHIBTUSD', 'BEAMXUSDT', 'ARKTRY', 'BEAMXTRY', 'CAKETRY', 'CAKETUSD', 'DYDXFDUSD', 'PIVXUSDT', 'RUNEFDUSD', 'TIATUSD', 'DOTTUSD', 'GALAFDUSD', 'WLDFDUSD', 'GASTRY', 'NTRNTRY', 'VICBTC', 'VICUSDT', 'VICTRY', 'BLURBTC', 'BLURUSDT', 'BLURTRY', 'BLURFDUSD', 'SUPERFDUSD', 'USTCFDUSD', 'USTCTRY', 'DYDXTRY', 'VANRYUSDT', 'VANRYBTC', 'BTCAEUR', 'AEURUSDT', 'ETHAEUR', 'EURAEUR', 'AUCTIONFDUSD', 'IOTAFDUSD', 'LUNCTRY', 'SUPERTRY', 'JTOUSDT', 'JTOFDUSD', 'JTOTRY', '1000SATSUSDT', '1000SATSFDUSD', '1000SATSTRY', 'SHIBFDUSD', 'SANDFDUSD', 'MEMEETH', 'IOTATRY', 'INJFDUSD', 'FIDATRY', 'BONKUSDT', 'BONKFDUSD', 'BONKTRY', 'ACEFDUSD', 'ACEUSDT', 'ACEBNB', 'ACEBTC', 'ACETRY', 'BLZFDUSD', 'RARETRY', 'VANRYTRY', 'NFPBTC', 'NFPUSDT', 'NFPBNB', 'NFPFDUSD', 'NFPTUSD', 'NFPTRY', 'ARBUSDC', 'AVAXUSDC', 'DOTUSDC', 'INJUSDC', 'MATICUSDC', 'OPUSDC', 'ORDIUSDC', 'AIBTC', 'AIUSDT', 'AIBNB', 'AIFDUSD', 'AITUSD', 'AITRY', 'ICPFDUSD', 'LDOFDUSD', 'MOVRTRY', 'XAIBTC', 'XAIUSDT', 'XAIBNB', 'XAIFDUSD', 'XAITUSD', 'XAITRY', 'SKLTRY', 'STXFDUSD', 'TIAFDUSD', 'MANTABTC', 'MANTAUSDT', 'MANTABNB', 'MANTAFDUSD', 'MANTATRY', 'ENSFDUSD', 'ETCFDUSD', 'SUIUSDC', 'TIAUSDC', 'CHZFDUSD', 'MANTAUSDC', 'ALTBTC', 'ALTUSDT', 'ALTBNB', 'ALTFDUSD', 'ALTTRY', 'APTFDUSD', 'BLURUSDC', 'JUPUSDT', 'JUPFDUSD', 'JUPTRY', 'ALTUSDC', 'MAGICFDUSD', 'SEIUSDC', 'PYTHBTC', 'PYTHUSDT', 'PYTHFDUSD', 'PYTHTRY', 'RONINBTC', 'RONINUSDT', 'RONINFDUSD', 'RONINTRY', 'DYMBTC', 'DYMUSDT', 'DYMFDUSD', 'DYMTRY', 'JUPUSDC', 'PENDLEFDUSD', 'PIXELBTC', 'PIXELBNB', 'PIXELUSDT', 'PIXELFDUSD', 'PIXELTRY', 'STRKBTC', 'STRKUSDT', 'STRKFDUSD', 'STRKTRY', 'FILUSDC', 'HBARTRY', 'PENDLETRY', 'WLDUSDC', 'CKBTRY', 'COTITRY', 'LDOTRY', 'UNIUSDC', 'PORTALBTC', 'PORTALUSDT', 'PORTALBNB', 'PORTALFDUSD', 'PORTALTRY', 'PDABTC', 'PDAUSDT', 'AXLBTC', 'AXLUSDT', 'AXLFDUSD', 'AXLTRY', 'PEPEFDUSD', 'PIXELUSDC', 'STRKUSDC', 'UNIFDUSD', 'OMTRY', 'THETATRY', 'WIFBTC', 'WIFUSDT', 'WIFFDUSD', 'WIFTRY', 'AGIXFDUSD', 'PEPEUSDC', 'SHIBUSDC', 'THETAFDUSD', 'ARTRY', 'METISBTC', 'METISUSDT', 'METISFDUSD', 'METISTRY', 'BNBJPY', 'BTCJPY', 'ETHJPY', 'FLOKIFDUSD', 'GRTFDUSD', 'NEARUSDC', 'SNXTRY', 'AEVOBTC', 'AEVOUSDT', 'AEVOBNB', 'AEVOFDUSD', 'AEVOTRY', 'FETUSDC', 'IMXTRY', 'EURUSDC', 'BOMETRY', 'BOMEBTC', 'BOMEUSDT', 'BOMEFDUSD', 'ETHFIBTC', 'ETHFIUSDT', 'ETHFIBNB', 'ETHFIFDUSD', 'ETHFITRY', 'AAVETRY', 'ARKMFDUSD', 'CRVTRY', 'FETBRL', 'RAYFDUSD', 'RNDREUR', 'BONKUSDC', 'FLOKIUSDC', 'MKRTRY', 'RAYTRY', 'RNDRBRL', 'ENABTC', 'ENAUSDT', 'ENABNB', 'ENAFDUSD', 'ENATRY', 'LQTYFDUSD', 'MASKTRY', 'PENDLEUSDC', 'RDNTTRY', 'WBTC', 'WUSDT', 'WFDUSD', 'WTRY', 'BOMEUSDC', 'JTOUSDC', 'WIFUSDC', 'TNSRBTC', 'TNSRUSDT', 'TNSRFDUSD', 'TNSRTRY', 'SAGABTC', 'SAGAUSDT', 'SAGABNB', 'SAGAFDUSD', 'SAGATRY', 'USDTMXN', 'CKBUSDC', 'ENAUSDC', 'ETHFIUSDC', 'YGGUSDC', 'USDTCZK', 'TAOBTC', 'TAOUSDT', 'TAOFDUSD', 'TAOTRY', 'CFXUSDC', 'RNDRUSDC', 'RUNEUSDC', 'SAGAUSDC', 'POLYXTRY', 'OMNIBTC', 'OMNIUSDT', 'OMNIBNB', 'OMNIFDUSD', 'OMNITRY', 'APTUSDC', 'GALAUSDC', 'OMNIBRL', 'STXUSDC', 'ICPUSDC', 'OMNIUSDC', 'PEPEBRL', 'YGGTRY', 'ADAJPY', 'SHIBJPY', 'SOLJPY', 'XRPJPY', 'REZBTC', 'REZUSDT', 'REZBNB', 'REZFDUSD', 'REZTRY', 'EGLDTRY', 'PHBTRY', 'RSRTRY', 'BBBTC', 'BBUSDT', 'BBBNB', 'BBFDUSD', 'BBTRY', 'FRONTUSDC', 'PEOPLETRY', 'TRBUSDC', 'NOTUSDT', 'NOTBNB', 'NOTFDUSD', 'NOTTRY', 'ARKMUSDC', 'ARUSDC', 'BBUSDC', 'CRVUSDC', 'PEOPLEUSDC', 'ARFDUSD', 'ENAEUR', 'PEPEEUR', 'REZUSDC', 'TRBFDUSD', 'USDCTRY', 'BTCMXN', 'XRPMXN', 'ENSUSDC', 'LDOUSDC', 'NOTUSDC', 'NEARBRL', 'HIGHTRY', 'PEOPLEFDUSD', 'TNSRUSDC', 'USDTCOP', 'IOBTC', 'IOUSDT', 'IOBNB', 'IOFDUSD', 'IOTRY', 'NOTBRL', 'TRUTRY', 'WIFEUR', 'ZKBTC', 'ZKUSDT', 'ZKFDUSD', 'ZKTRY', 'LISTAUSDT', 'LISTABNB', 'LISTAFDUSD', 'LISTATRY', 'ZROBTC', 'ZROUSDT', 'ZROFDUSD', 'ZROTRY', 'LISTABRL', 'BAKETRY', 'WIFBRL', 'ZKUSDC', 'ZROUSDC', 'IOUSDC', '1000SATSUSDC', 'BNXTRY', 'ETHARS', 'GUSDT', 'GTRY', 'BANANABTC', 'BANANAUSDT', 'BANANABNB', 'BANANAFDUSD', 'BANANATRY', 'RENDERBTC', 'RENDERUSDT', 'RENDERFDUSD', 'RENDERUSDC', 'RENDERTRY', 'RENDEREUR', 'RENDERBRL', 'TONBTC', 'TONUSDT', 'TONFDUSD', 'TONTRY', 'BONKBRL', 'NOTEUR', 'DOGEJPY', 'MATICJPY', 'NEARJPY', 'TONUSDC', 'AAVEFDUSD', 'DOGSUSDT', 'DOGSBNB', 'DOGSFDUSD', 'DOGSTRY', 'EUREURI', 'EURIUSDT', 'DOGSBRL', 'DOGSUSDC', 'RAREBRL', 'RAREUSDC', 'SLFBTC', 'SLFTRY', 'SLFUSDC', 'SLFUSDT', 'AAVEUSDC', 'SUNTRY', 'STMXTRY', 'POLBNB', 'POLBRL', 'POLBTC', 'POLETH', 'POLEUR', 'POLFDUSD', 'POLJPY', 'POLTRY', 'POLUSDC', 'POLUSDT', 'NEIROUSDT', 'TURBOUSDT', '1MBABYDOGEUSDT', 'CATIUSDT', 'CATIBNB', 'CATIFDUSD', 'CATITRY', '1MBABYDOGEFDUSD', '1MBABYDOGETRY', 'CATIBRL', 'BTCEURI', 'NEIROFDUSD', 'NEIROTRY', 'HMSTRUSDT', 'HMSTRBNB', 'HMSTRFDUSD', 'HMSTRTRY', 'EIGENBTC', 'EIGENUSDT', 'EIGENFDUSD', 'EIGENTRY', 'NEIROBRL', 'NEIROEUR']\n",
      "['ethbtc', 'ltcbtc', 'bnbbtc', 'neobtc', 'qtumeth', 'eoseth', 'snteth', 'bnteth', 'bccbtc', 'gasbtc', 'bnbeth', 'btcusdt', 'ethusdt', 'hsrbtc', 'oaxeth', 'dnteth', 'mcoeth', 'icneth', 'mcobtc', 'wtcbtc', 'wtceth', 'lrcbtc', 'lrceth', 'qtumbtc', 'yoyobtc', 'omgbtc', 'omgeth', 'zrxbtc', 'zrxeth', 'stratbtc', 'strateth', 'snglsbtc', 'snglseth', 'bqxbtc', 'bqxeth', 'kncbtc', 'knceth', 'funbtc', 'funeth', 'snmbtc', 'snmeth', 'neoeth', 'iotabtc', 'iotaeth', 'linkbtc', 'linketh', 'xvgbtc', 'xvgeth', 'saltbtc', 'salteth', 'mdabtc', 'mdaeth', 'mtlbtc', 'mtleth', 'subbtc', 'subeth', 'eosbtc', 'sntbtc', 'etceth', 'etcbtc', 'mthbtc', 'mtheth', 'engbtc', 'engeth', 'dntbtc', 'zecbtc', 'zeceth', 'bntbtc', 'astbtc', 'asteth', 'dashbtc', 'dasheth', 'oaxbtc', 'icnbtc', 'btgbtc', 'btgeth', 'evxbtc', 'evxeth', 'reqbtc', 'reqeth', 'vibbtc', 'vibeth', 'hsreth', 'trxbtc', 'trxeth', 'powrbtc', 'powreth', 'arkbtc', 'arketh', 'yoyoeth', 'xrpbtc', 'xrpeth', 'modbtc', 'modeth', 'enjbtc', 'enjeth', 'storjbtc', 'storjeth', 'bnbusdt', 'venbnb', 'yoyobnb', 'powrbnb', 'venbtc', 'veneth', 'kmdbtc', 'kmdeth', 'nulsbnb', 'rcnbtc', 'rcneth', 'rcnbnb', 'nulsbtc', 'nulseth', 'rdnbtc', 'rdneth', 'rdnbnb', 'xmrbtc', 'xmreth', 'dltbnb', 'wtcbnb', 'dltbtc', 'dlteth', 'ambbtc', 'ambeth', 'ambbnb', 'bcceth', 'bccusdt', 'bccbnb', 'batbtc', 'bateth', 'batbnb', 'bcptbtc', 'bcpteth', 'bcptbnb', 'arnbtc', 'arneth', 'gvtbtc', 'gvteth', 'cdtbtc', 'cdteth', 'gxsbtc', 'gxseth', 'neousdt', 'neobnb', 'poebtc', 'poeeth', 'qspbtc', 'qspeth', 'qspbnb', 'btsbtc', 'btseth', 'btsbnb', 'xzcbtc', 'xzceth', 'xzcbnb', 'lskbtc', 'lsketh', 'lskbnb', 'tntbtc', 'tnteth', 'fuelbtc', 'fueleth', 'manabtc', 'manaeth', 'bcdbtc', 'bcdeth', 'dgdbtc', 'dgdeth', 'iotabnb', 'adxbtc', 'adxeth', 'adxbnb', 'adabtc', 'adaeth', 'pptbtc', 'ppteth', 'cmtbtc', 'cmteth', 'cmtbnb', 'xlmbtc', 'xlmeth', 'xlmbnb', 'cndbtc', 'cndeth', 'cndbnb', 'lendbtc', 'lendeth', 'wabibtc', 'wabieth', 'wabibnb', 'ltceth', 'ltcusdt', 'ltcbnb', 'tnbbtc', 'tnbeth', 'wavesbtc', 'waveseth', 'wavesbnb', 'gtobtc', 'gtoeth', 'gtobnb', 'icxbtc', 'icxeth', 'icxbnb', 'ostbtc', 'osteth', 'ostbnb', 'elfbtc', 'elfeth', 'aionbtc', 'aioneth', 'aionbnb', 'neblbtc', 'neblbnb', 'brdbtc', 'brdeth', 'brdbnb', 'mcobnb', 'edobtc', 'edoeth', 'wingsbtc', 'wingseth', 'navbtc', 'naveth', 'navbnb', 'lunbtc', 'luneth', 'trigbtc', 'trigeth', 'trigbnb', 'appcbtc', 'appceth', 'appcbnb', 'vibebtc', 'vibeeth', 'rlcbtc', 'rlceth', 'rlcbnb', 'insbtc', 'inseth', 'pivxbtc', 'pivxbnb', 'iostbtc', 'iosteth', 'chatbtc', 'chateth', 'steembtc', 'steemeth', 'steembnb', 'nanobtc', 'nanoeth', 'nanobnb', 'viabtc', 'viaeth', 'viabnb', 'blzbtc', 'blzeth', 'blzbnb', 'aebtc', 'aeeth', 'aebnb', 'rpxbtc', 'rpxeth', 'rpxbnb', 'ncashbtc', 'ncasheth', 'ncashbnb', 'poabtc', 'poaeth', 'poabnb', 'zilbtc', 'zileth', 'zilbnb', 'ontbtc', 'onteth', 'ontbnb', 'stormbtc', 'stormeth', 'stormbnb', 'qtumbnb', 'qtumusdt', 'xembtc', 'xemeth', 'xembnb', 'wanbtc', 'waneth', 'wanbnb', 'wprbtc', 'wpreth', 'qlcbtc', 'qlceth', 'sysbtc', 'syseth', 'sysbnb', 'qlcbnb', 'grsbtc', 'grseth', 'adausdt', 'adabnb', 'cloakbtc', 'cloaketh', 'gntbtc', 'gnteth', 'gntbnb', 'loombtc', 'loometh', 'loombnb', 'xrpusdt', 'bcnbtc', 'bcneth', 'bcnbnb', 'repbtc', 'repbnb', 'btctusd', 'tusdbtc', 'ethtusd', 'tusdeth', 'tusdbnb', 'zenbtc', 'zeneth', 'zenbnb', 'skybtc', 'skyeth', 'skybnb', 'eosusdt', 'eosbnb', 'cvcbtc', 'cvceth', 'cvcbnb', 'thetabtc', 'thetaeth', 'thetabnb', 'xrpbnb', 'tusdusdt', 'iotausdt', 'xlmusdt', 'iotxbtc', 'iotxeth', 'qkcbtc', 'qkceth', 'agibtc', 'agieth', 'agibnb', 'nxsbtc', 'nxseth', 'nxsbnb', 'enjbnb', 'databtc', 'dataeth', 'ontusdt', 'trxbnb', 'trxusdt', 'etcusdt', 'etcbnb', 'icxusdt', 'scbtc', 'sceth', 'npxsbtc', 'npxseth', 'venusdt', 'keybtc', 'keyeth', 'nasbtc', 'naseth', 'nasbnb', 'mftbtc', 'mfteth', 'mftbnb', 'dentbtc', 'denteth', 'ardrbtc', 'ardreth', 'ardrbnb', 'nulsusdt', 'hotbtc', 'hoteth', 'vetbtc', 'veteth', 'vetusdt', 'vetbnb', 'dockbtc', 'docketh', 'polybtc', 'polybnb', 'phxbtc', 'phxeth', 'phxbnb', 'hcbtc', 'hceth', 'gobtc', 'gobnb', 'paxbtc', 'paxbnb', 'paxusdt', 'paxeth', 'rvnbtc', 'dcrbtc', 'dcrbnb', 'usdcbnb', 'mithbtc', 'mithbnb', 'bchabcbtc', 'bchsvbtc', 'bchabcusdt', 'bchsvusdt', 'bnbpax', 'btcpax', 'ethpax', 'xrppax', 'eospax', 'xlmpax', 'renbtc', 'renbnb', 'bnbtusd', 'xrptusd', 'eostusd', 'xlmtusd', 'bnbusdc', 'btcusdc', 'ethusdc', 'xrpusdc', 'eosusdc', 'xlmusdc', 'usdcusdt', 'adatusd', 'trxtusd', 'neotusd', 'trxxrp', 'xzcxrp', 'paxtusd', 'usdctusd', 'usdcpax', 'linkusdt', 'linktusd', 'linkpax', 'linkusdc', 'wavesusdt', 'wavestusd', 'wavespax', 'wavesusdc', 'bchabctusd', 'bchabcpax', 'bchabcusdc', 'bchsvtusd', 'bchsvpax', 'bchsvusdc', 'ltctusd', 'ltcpax', 'ltcusdc', 'trxpax', 'trxusdc', 'bttbtc', 'bttbnb', 'bttusdt', 'bnbusds', 'btcusds', 'usdsusdt', 'usdspax', 'usdstusd', 'usdsusdc', 'bttpax', 'btttusd', 'bttusdc', 'ongbnb', 'ongbtc', 'ongusdt', 'hotbnb', 'hotusdt', 'zilusdt', 'zrxbnb', 'zrxusdt', 'fetbnb', 'fetbtc', 'fetusdt', 'batusdt', 'xmrbnb', 'xmrusdt', 'zecbnb', 'zecusdt', 'zecpax', 'zectusd', 'zecusdc', 'iostusdt', 'celrbnb', 'celrbtc', 'celrusdt', 'adapax', 'adausdc', 'neopax', 'neousdc', 'dashbnb', 'dashusdt', 'nanousdt', 'omgbnb', 'omgusdt', 'thetausdt', 'enjusdt', 'mithusdt', 'maticbnb', 'maticbtc', 'maticusdt', 'atombnb', 'atombtc', 'atomusdt', 'atomusdc', 'atompax', 'atomtusd', 'etcusdc', 'etcpax', 'etctusd', 'batusdc', 'batpax', 'battusd', 'phbbnb', 'phbbtc', 'phbusdc', 'phbtusd', 'phbpax', 'tfuelbnb', 'tfuelbtc', 'tfuelusdt', 'tfuelusdc', 'tfueltusd', 'tfuelpax', 'onebnb', 'onebtc', 'oneusdt', 'onetusd', 'onepax', 'oneusdc', 'ftmbnb', 'ftmbtc', 'ftmusdt', 'ftmtusd', 'ftmpax', 'ftmusdc', 'btcbbtc', 'bcpttusd', 'bcptpax', 'bcptusdc', 'algobnb', 'algobtc', 'algousdt', 'algotusd', 'algopax', 'algousdc', 'usdsbusdt', 'usdsbusds', 'gtousdt', 'gtopax', 'gtotusd', 'gtousdc', 'erdbnb', 'erdbtc', 'erdusdt', 'erdpax', 'erdusdc', 'dogebnb', 'dogebtc', 'dogeusdt', 'dogepax', 'dogeusdc', 'duskbnb', 'duskbtc', 'duskusdt', 'duskusdc', 'duskpax', 'bgbpusdc', 'ankrbnb', 'ankrbtc', 'ankrusdt', 'ankrtusd', 'ankrpax', 'ankrusdc', 'ontpax', 'ontusdc', 'winbnb', 'winbtc', 'winusdt', 'winusdc', 'cosbnb', 'cosbtc', 'cosusdt', 'tusdbtusd', 'npxsusdt', 'npxsusdc', 'cocosbnb', 'cocosbtc', 'cocosusdt', 'mtlusdt', 'tomobnb', 'tomobtc', 'tomousdt', 'tomousdc', 'perlbnb', 'perlbtc', 'perlusdc', 'perlusdt', 'dentusdt', 'mftusdt', 'keyusdt', 'stormusdt', 'dockusdt', 'wanusdt', 'funusdt', 'cvcusdt', 'btttrx', 'wintrx', 'chzbnb', 'chzbtc', 'chzusdt', 'bandbnb', 'bandbtc', 'bandusdt', 'bnbbusd', 'btcbusd', 'busdusdt', 'beambnb', 'beambtc', 'beamusdt', 'xtzbnb', 'xtzbtc', 'xtzusdt', 'renusdt', 'rvnusdt', 'hcusdt', 'hbarbnb', 'hbarbtc', 'hbarusdt', 'nknbnb', 'nknbtc', 'nknusdt', 'xrpbusd', 'ethbusd', 'bchabcbusd', 'ltcbusd', 'linkbusd', 'etcbusd', 'stxbnb', 'stxbtc', 'stxusdt', 'kavabnb', 'kavabtc', 'kavausdt', 'busdngn', 'bnbngn', 'btcngn', 'arpabnb', 'arpabtc', 'arpausdt', 'trxbusd', 'eosbusd', 'iotxusdt', 'rlcusdt', 'mcousdt', 'xlmbusd', 'adabusd', 'ctxcbnb', 'ctxcbtc', 'ctxcusdt', 'bchbnb', 'bchbtc', 'bchusdt', 'bchusdc', 'bchtusd', 'bchpax', 'bchbusd', 'btcrub', 'ethrub', 'xrprub', 'bnbrub', 'troybnb', 'troybtc', 'troyusdt', 'busdrub', 'qtumbusd', 'vetbusd', 'vitebnb', 'vitebtc', 'viteusdt', 'fttbnb', 'fttbtc', 'fttusdt', 'btctry', 'bnbtry', 'busdtry', 'ethtry', 'xrptry', 'usdttry', 'usdtrub', 'btceur', 'etheur', 'bnbeur', 'xrpeur', 'eurbusd', 'eurusdt', 'ognbnb', 'ognbtc', 'ognusdt', 'drepbnb', 'drepbtc', 'drepusdt', 'bullusdt', 'bullbusd', 'bearusdt', 'bearbusd', 'ethbullusdt', 'ethbullbusd', 'ethbearusdt', 'ethbearbusd', 'tctbnb', 'tctbtc', 'tctusdt', 'wrxbnb', 'wrxbtc', 'wrxusdt', 'icxbusd', 'btsusdt', 'btsbusd', 'lskusdt', 'bntusdt', 'bntbusd', 'ltobnb', 'ltobtc', 'ltousdt', 'atombusd', 'dashbusd', 'neobusd', 'wavesbusd', 'xtzbusd', 'eosbullusdt', 'eosbullbusd', 'eosbearusdt', 'eosbearbusd', 'xrpbullusdt', 'xrpbullbusd', 'xrpbearusdt', 'xrpbearbusd', 'batbusd', 'enjbusd', 'nanobusd', 'ontbusd', 'rvnbusd', 'stratbusd', 'stratbnb', 'stratusdt', 'aionbusd', 'aionusdt', 'mblbnb', 'mblbtc', 'mblusdt', 'cotibnb', 'cotibtc', 'cotiusdt', 'algobusd', 'bttbusd', 'tomobusd', 'xmrbusd', 'zecbusd', 'bnbbullusdt', 'bnbbullbusd', 'bnbbearusdt', 'bnbbearbusd', 'stptbnb', 'stptbtc', 'stptusdt', 'btczar', 'ethzar', 'bnbzar', 'usdtzar', 'busdzar', 'btcbkrw', 'ethbkrw', 'bnbbkrw', 'wtcusdt', 'databusd', 'datausdt', 'xzcusdt', 'solbnb', 'solbtc', 'solusdt', 'solbusd', 'btcidrt', 'bnbidrt', 'usdtidrt', 'busdidrt', 'ctsibtc', 'ctsiusdt', 'ctsibnb', 'ctsibusd', 'hivebnb', 'hivebtc', 'hiveusdt', 'chrbnb', 'chrbtc', 'chrusdt', 'btcupusdt', 'btcdownusdt', 'gxsusdt', 'ardrusdt', 'erdbusd', 'lendusdt', 'hbarbusd', 'maticbusd', 'wrxbusd', 'zilbusd', 'mdtbnb', 'mdtbtc', 'mdtusdt', 'stmxbtc', 'stmxeth', 'stmxusdt', 'kncbusd', 'kncusdt', 'repbusd', 'repusdt', 'lrcbusd', 'lrcusdt', 'iqbnb', 'iqbusd', 'pntbtc', 'pntusdt', 'btcgbp', 'ethgbp', 'xrpgbp', 'bnbgbp', 'gbpbusd', 'dgbbtc', 'dgbbusd', 'btcuah', 'usdtuah', 'compbtc', 'compbnb', 'compbusd', 'compusdt', 'btcbidr', 'ethbidr', 'bnbbidr', 'busdbidr', 'usdtbidr', 'bkrwusdt', 'bkrwbusd', 'scusdt', 'zenusdt', 'sxpbtc', 'sxpbnb', 'sxpbusd', 'snxbtc', 'snxbnb', 'snxbusd', 'snxusdt', 'ethupusdt', 'ethdownusdt', 'adaupusdt', 'adadownusdt', 'linkupusdt', 'linkdownusdt', 'vthobnb', 'vthobusd', 'vthousdt', 'dcrbusd', 'dgbusdt', 'gbpusdt', 'storjbusd', 'sxpusdt', 'irisbnb', 'irisbtc', 'irisbusd', 'mkrbnb', 'mkrbtc', 'mkrusdt', 'mkrbusd', 'daibnb', 'daibtc', 'daiusdt', 'daibusd', 'runebnb', 'runebtc', 'runebusd', 'manabusd', 'dogebusd', 'lendbusd', 'zrxbusd', 'dcrusdt', 'storjusdt', 'xrpbkrw', 'adabkrw', 'btcaud', 'ethaud', 'audbusd', 'fiobnb', 'fiobtc', 'fiobusd', 'bnbupusdt', 'bnbdownusdt', 'xtzupusdt', 'xtzdownusdt', 'avabnb', 'avabtc', 'avabusd', 'usdtbkrw', 'busdbkrw', 'iotabusd', 'manausdt', 'xrpaud', 'bnbaud', 'audusdt', 'balbnb', 'balbtc', 'balbusd', 'yfibnb', 'yfibtc', 'yfibusd', 'yfiusdt', 'blzbusd', 'kmdbusd', 'balusdt', 'blzusdt', 'irisusdt', 'kmdusdt', 'btcdai', 'ethdai', 'bnbdai', 'usdtdai', 'busddai', 'jstbnb', 'jstbtc', 'jstbusd', 'jstusdt', 'srmbnb', 'srmbtc', 'srmbusd', 'srmusdt', 'antbnb', 'antbtc', 'antbusd', 'antusdt', 'crvbnb', 'crvbtc', 'crvbusd', 'crvusdt', 'sandbnb', 'sandbtc', 'sandusdt', 'sandbusd', 'oceanbnb', 'oceanbtc', 'oceanbusd', 'oceanusdt', 'nmrbtc', 'nmrbusd', 'nmrusdt', 'dotbnb', 'dotbtc', 'dotbusd', 'dotusdt', 'lunabnb', 'lunabtc', 'lunabusd', 'lunausdt', 'idexbtc', 'idexbusd', 'rsrbnb', 'rsrbtc', 'rsrbusd', 'rsrusdt', 'paxgbnb', 'paxgbtc', 'paxgbusd', 'paxgusdt', 'wnxmbnb', 'wnxmbtc', 'wnxmbusd', 'wnxmusdt', 'trbbnb', 'trbbtc', 'trbbusd', 'trbusdt', 'ethngn', 'dotbidr', 'linkaud', 'sxpaud', 'bzrxbnb', 'bzrxbtc', 'bzrxbusd', 'bzrxusdt', 'wbtcbtc', 'wbtceth', 'sushibnb', 'sushibtc', 'sushibusd', 'sushiusdt', 'yfiibnb', 'yfiibtc', 'yfiibusd', 'yfiiusdt', 'ksmbnb', 'ksmbtc', 'ksmbusd', 'ksmusdt', 'egldbnb', 'egldbtc', 'egldbusd', 'egldusdt', 'diabnb', 'diabtc', 'diabusd', 'diausdt', 'runeusdt', 'fiousdt', 'umabtc', 'umausdt', 'eosupusdt', 'eosdownusdt', 'trxupusdt', 'trxdownusdt', 'xrpupusdt', 'xrpdownusdt', 'dotupusdt', 'dotdownusdt', 'srmbidr', 'onebidr', 'linktry', 'usdtngn', 'belbnb', 'belbtc', 'belbusd', 'belusdt', 'wingbnb', 'wingbtc', 'swrvbnb', 'swrvbusd', 'wingbusd', 'wingusdt', 'ltcupusdt', 'ltcdownusdt', 'lendbkrw', 'sxpeur', 'creambnb', 'creambusd', 'unibnb', 'unibtc', 'unibusd', 'uniusdt', 'nbsbtc', 'nbsusdt', 'oxtbtc', 'oxtusdt', 'sunbtc', 'sunusdt', 'avaxbnb', 'avaxbtc', 'avaxbusd', 'avaxusdt', 'hntbtc', 'hntusdt', 'bakebnb', 'burgerbnb', 'sxpbidr', 'linkbkrw', 'flmbnb', 'flmbtc', 'flmbusd', 'flmusdt', 'scrtbtc', 'scrteth', 'cakebnb', 'cakebusd', 'spartabnb', 'uniupusdt', 'unidownusdt', 'ornbtc', 'ornusdt', 'trxngn', 'sxptry', 'utkbtc', 'utkusdt', 'xvsbnb', 'xvsbtc', 'xvsbusd', 'xvsusdt', 'alphabnb', 'alphabtc', 'alphabusd', 'alphausdt', 'vidtbtc', 'vidtbusd', 'aavebnb', 'btcbrl', 'usdtbrl', 'aavebtc', 'aaveeth', 'aavebusd', 'aaveusdt', 'aavebkrw', 'nearbnb', 'nearbtc', 'nearbusd', 'nearusdt', 'sxpupusdt', 'sxpdownusdt', 'dotbkrw', 'sxpgbp', 'filbnb', 'filbtc', 'filbusd', 'filusdt', 'filupusdt', 'fildownusdt', 'yfiupusdt', 'yfidownusdt', 'injbnb', 'injbtc', 'injbusd', 'injusdt', 'aergobtc', 'aergobusd', 'linkeur', 'onebusd', 'easyeth', 'audiobtc', 'audiobusd', 'audiousdt', 'ctkbnb', 'ctkbtc', 'ctkbusd', 'ctkusdt', 'bchupusdt', 'bchdownusdt', 'botbtc', 'botbusd', 'ethbrl', 'doteur', 'akrobtc', 'akrousdt', 'kp3rbnb', 'kp3rbusd', 'axsbnb', 'axsbtc', 'axsbusd', 'axsusdt', 'hardbnb', 'hardbtc', 'hardbusd', 'hardusdt', 'bnbbrl', 'ltceur', 'renbtcbtc', 'renbtceth', 'dntbusd', 'dntusdt', 'slpeth', 'adaeur', 'ltcngn', 'cvpeth', 'cvpbusd', 'straxbtc', 'straxeth', 'straxbusd', 'straxusdt', 'forbtc', 'forbusd', 'unfibnb', 'unfibtc', 'unfibusd', 'unfiusdt', 'fronteth', 'frontbusd', 'bchabusd', 'rosebtc', 'rosebusd', 'roseusdt', 'avaxtry', 'busdbrl', 'avausdt', 'sysbusd', 'xemusdt', 'hegiceth', 'hegicbusd', 'aaveupusdt', 'aavedownusdt', 'prombnb', 'prombusd', 'xrpbrl', 'xrpngn', 'sklbtc', 'sklbusd', 'sklusdt', 'bcheur', 'yfieur', 'zilbidr', 'susdbtc', 'susdeth', 'susdusdt', 'covereth', 'coverbusd', 'glmbtc', 'glmeth', 'ghsteth', 'ghstbusd', 'sushiupusdt', 'sushidownusdt', 'xlmupusdt', 'xlmdownusdt', 'linkbrl', 'linkngn', 'ltcrub', 'trxtry', 'xlmeur', 'dfeth', 'dfbusd', 'grtbtc', 'grteth', 'grtusdt', 'juvbtc', 'juvbusd', 'juvusdt', 'psgbtc', 'psgbusd', 'psgusdt', 'busdbvnd', 'usdtbvnd', '1inchbtc', '1inchusdt', 'reefbtc', 'reefusdt', 'ogbtc', 'ogusdt', 'atmbtc', 'atmusdt', 'asrbtc', 'asrusdt', 'celobtc', 'celousdt', 'rifbtc', 'rifusdt', 'chztry', 'xlmtry', 'linkgbp', 'grteur', 'btcstbtc', 'btcstbusd', 'btcstusdt', 'trubtc', 'trubusd', 'truusdt', 'dexeeth', 'dexebusd', 'eoseur', 'ltcbrl', 'usdcbusd', 'tusdbusd', 'paxbusd', 'ckbbtc', 'ckbbusd', 'ckbusdt', 'twtbtc', 'twtbusd', 'twtusdt', 'firobtc', 'firoeth', 'firousdt', 'betheth', 'dogeeur', 'dogetry', 'dogeaud', 'dogebrl', 'dotngn', 'proseth', 'litbtc', 'litbusd', 'litusdt', 'btcvai', 'busdvai', 'sfpbtc', 'sfpbusd', 'sfpusdt', 'dogegbp', 'dottry', 'fxsbtc', 'fxsbusd', 'dodobtc', 'dodobusd', 'dodousdt', 'frontbtc', 'easybtc', 'cakebtc', 'cakeusdt', 'bakebusd', 'ufteth', 'uftbusd', '1inchbusd', 'bandbusd', 'grtbusd', 'iostbusd', 'omgbusd', 'reefbusd', 'acmbtc', 'acmbusd', 'acmusdt', 'auctionbtc', 'auctionbusd', 'phabtc', 'phabusd', 'dotgbp', 'adatry', 'adabrl', 'adagbp', 'tvkbtc', 'tvkbusd', 'badgerbtc', 'badgerbusd', 'badgerusdt', 'fisbtc', 'fisbusd', 'fisusdt', 'dotbrl', 'adaaud', 'hottry', 'egldeur', 'ombtc', 'ombusd', 'omusdt', 'pondbtc', 'pondbusd', 'pondusdt', 'degobtc', 'degobusd', 'degousdt', 'avaxeur', 'btttry', 'chzbrl', 'unieur', 'alicebtc', 'alicebusd', 'aliceusdt', 'chzbusd', 'chzeur', 'chzgbp', 'bifibnb', 'bifibusd', 'linabtc', 'linabusd', 'linausdt', 'adarub', 'enjbrl', 'enjeur', 'maticeur', 'neotry', 'perpbtc', 'perpbusd', 'perpusdt', 'rampbtc', 'rampbusd', 'rampusdt', 'superbtc', 'superbusd', 'superusdt', 'cfxbtc', 'cfxbusd', 'cfxusdt', 'enjgbp', 'eostry', 'ltcgbp', 'lunaeur', 'rvntry', 'thetaeur', 'xvgbusd', 'epsbtc', 'epsbusd', 'epsusdt', 'autobtc', 'autobusd', 'autousdt', 'tkobtc', 'tkobidr', 'tkobusd', 'tkousdt', 'pundixeth', 'pundixusdt', 'bttbrl', 'btteur', 'hoteur', 'wineur', 'tlmbtc', 'tlmbusd', 'tlmusdt', '1inchupusdt', '1inchdownusdt', 'btgbusd', 'btgusdt', 'hotbusd', 'bnbuah', 'onttry', 'veteur', 'vetgbp', 'winbrl', 'mirbtc', 'mirbusd', 'mirusdt', 'barbtc', 'barbusd', 'barusdt', 'forthbtc', 'forthbusd', 'forthusdt', 'cakegbp', 'dogerub', 'hotbrl', 'wrxeur', 'ezbtc', 'ezeth', 'bakeusdt', 'burgerbusd', 'burgerusdt', 'slpbusd', 'slpusdt', 'trxaud', 'trxeur', 'vettry', 'shibusdt', 'shibbusd', 'icpbtc', 'icpbnb', 'icpbusd', 'icpusdt', 'shibeur', 'shibrub', 'etceur', 'etcbrl', 'dogebidr', 'arbtc', 'arbnb', 'arbusd', 'arusdt', 'polsbtc', 'polsbnb', 'polsbusd', 'polsusdt', 'mdxbtc', 'mdxbnb', 'mdxbusd', 'mdxusdt', 'maskbnb', 'maskbusd', 'maskusdt', 'lptbtc', 'lptbnb', 'lptbusd', 'lptusdt', 'ethuah', 'maticbrl', 'soleur', 'shibbrl', 'agixbtc', 'icpeur', 'maticgbp', 'shibtry', 'maticbidr', 'maticrub', 'nubtc', 'nubnb', 'nubusd', 'nuusdt', 'xvgusdt', 'rlcbusd', 'celrbusd', 'atmbusd', 'zenbusd', 'ftmbusd', 'thetabusd', 'winbusd', 'kavabusd', 'xembusd', 'atabtc', 'atabnb', 'atabusd', 'atausdt', 'gtcbtc', 'gtcbnb', 'gtcbusd', 'gtcusdt', 'tornbtc', 'tornbnb', 'tornbusd', 'tornusdt', 'matictry', 'etcgbp', 'solgbp', 'bakebtc', 'cotibusd', 'keepbtc', 'keepbnb', 'keepbusd', 'keepusdt', 'soltry', 'runegbp', 'solbrl', 'scbusd', 'chrbusd', 'stmxbusd', 'hntbusd', 'fttbusd', 'dockbusd', 'adabidr', 'ernbnb', 'ernbusd', 'ernusdt', 'klaybtc', 'klaybnb', 'klaybusd', 'klayusdt', 'runeeur', 'maticaud', 'dotrub', 'utkbusd', 'iotxbusd', 'phausdt', 'solrub', 'runeaud', 'busduah', 'bondbtc', 'bondbnb', 'bondbusd', 'bondusdt', 'mlnbtc', 'mlnbnb', 'mlnbusd', 'mlnusdt', 'grttry', 'cakebrl', 'icprub', 'dotaud', 'aavebrl', 'eosaud', 'dexeusdt', 'ltobusd', 'adxbusd', 'quickbtc', 'quickbnb', 'quickbusd', 'c98usdt', 'c98busd', 'c98bnb', 'c98btc', 'clvbtc', 'clvbnb', 'clvbusd', 'clvusdt', 'qntbtc', 'qntbnb', 'qntbusd', 'qntusdt', 'flowbtc', 'flowbnb', 'flowbusd', 'flowusdt', 'xecbusd', 'axsbrl', 'axsaud', 'tvkusdt', 'minabtc', 'minabnb', 'minabusd', 'minausdt', 'raybnb', 'raybusd', 'rayusdt', 'farmbtc', 'farmbnb', 'farmbusd', 'farmusdt', 'alpacabtc', 'alpacabnb', 'alpacabusd', 'alpacausdt', 'tlmtry', 'quickusdt', 'ornbusd', 'mboxbtc', 'mboxbnb', 'mboxbusd', 'mboxusdt', 'vgxbtc', 'vgxeth', 'forusdt', 'requsdt', 'ghstusdt', 'trurub', 'fisbrl', 'waxpusdt', 'waxpbusd', 'waxpbnb', 'waxpbtc', 'tribebtc', 'tribebnb', 'tribebusd', 'tribeusdt', 'gnousdt', 'gnobusd', 'gnobnb', 'gnobtc', 'arpatry', 'prombtc', 'mtlbusd', 'ognbusd', 'xecusdt', 'c98brl', 'solaud', 'xrpbidr', 'polybusd', 'elfusdt', 'dydxusdt', 'dydxbusd', 'dydxbnb', 'dydxbtc', 'elfbusd', 'polyusdt', 'idexusdt', 'vidtusdt', 'solbidr', 'btcusdp', 'ethusdp', 'bnbusdp', 'usdpbusd', 'usdpusdt', 'galausdt', 'galabusd', 'galabnb', 'galabtc', 'ftmbidr', 'algobidr', 'cakeaud', 'ksmaud', 'wavesrub', 'sunbusd', 'ilvusdt', 'ilvbusd', 'ilvbnb', 'ilvbtc', 'renbusd', 'yggusdt', 'yggbusd', 'yggbnb', 'yggbtc', 'stxbusd', 'sysusdt', 'dfusdt', 'solusdc', 'arparub', 'ltcuah', 'fetbusd', 'arpabusd', 'lskbusd', 'avaxbidr', 'alicebidr', 'fidausdt', 'fidabusd', 'fidabnb', 'fidabtc', 'dentbusd', 'frontusdt', 'cvpusdt', 'agldbtc', 'agldbnb', 'agldbusd', 'agldusdt', 'radbtc', 'radbnb', 'radbusd', 'radusdt', 'uniaud', 'hivebusd', 'stptbusd', 'betabtc', 'betabnb', 'betabusd', 'betausdt', 'shibaud', 'rarebtc', 'rarebnb', 'rarebusd', 'rareusdt', 'avaxbrl', 'avaxaud', 'lunaaud', 'troybusd', 'axseth', 'ftmeth', 'soleth', 'ssvbtc', 'ssveth', 'laziotry', 'lazioeur', 'laziobtc', 'laziousdt', 'chessbtc', 'chessbnb', 'chessbusd', 'chessusdt', 'ftmaud', 'ftmbrl', 'scrtbusd', 'adxusdt', 'auctionusdt', 'celobusd', 'ftmrub', 'nuaud', 'nurub', 'reeftry', 'reefbidr', 'shibdoge', 'darusdt', 'darbusd', 'darbnb', 'darbtc', 'bnxbtc', 'bnxbnb', 'bnxbusd', 'bnxusdt', 'rgtusdt', 'rgtbtc', 'rgtbusd', 'rgtbnb', 'laziobusd', 'oxtbusd', 'manatry', 'algorub', 'shibuah', 'lunabidr', 'audusdc', 'movrbtc', 'movrbnb', 'movrbusd', 'movrusdt', 'citybtc', 'citybnb', 'citybusd', 'cityusdt', 'ensbtc', 'ensbnb', 'ensbusd', 'ensusdt', 'sandeth', 'doteth', 'maticeth', 'ankrbusd', 'sandtry', 'manabrl', 'kp3rusdt', 'qiusdt', 'qibusd', 'qibnb', 'qibtc', 'portobtc', 'portousdt', 'portotry', 'portoeur', 'powrusdt', 'powrbusd', 'avaxeth', 'slptry', 'fistry', 'lrctry', 'chreth', 'fisbidr', 'vgxusdt', 'galaeth', 'jasmyusdt', 'jasmybusd', 'jasmybnb', 'jasmybtc', 'ampbtc', 'ampbnb', 'ampbusd', 'ampusdt', 'plabtc', 'plabnb', 'plabusd', 'plausdt', 'pyrbtc', 'pyrbusd', 'pyrusdt', 'rndrbtc', 'rndrusdt', 'rndrbusd', 'alcxbtc', 'alcxbusd', 'alcxusdt', 'santosbtc', 'santosusdt', 'santosbrl', 'santostry', 'mcbtc', 'mcbusd', 'mcusdt', 'beltry', 'cocosbusd', 'denttry', 'enjtry', 'neorub', 'sandaud', 'slpbidr', 'anybtc', 'anybusd', 'anyusdt', 'bicobtc', 'bicobusd', 'bicousdt', 'fluxbtc', 'fluxbusd', 'fluxusdt', 'alicetry', 'fxsusdt', 'galabrl', 'galatry', 'lunatry', 'reqbusd', 'sandbrl', 'manabidr', 'sandbidr', 'voxelbtc', 'voxelbnb', 'voxelbusd', 'voxelusdt', 'cosbusd', 'ctxcbusd', 'ftmtry', 'manabnb', 'minatry', 'xtztry', 'highbtc', 'highbusd', 'highusdt', 'cvxbtc', 'cvxbusd', 'cvxusdt', 'peoplebtc', 'peoplebusd', 'peopleusdt', 'ookibusd', 'ookiusdt', 'cocostry', 'gxsbnb', 'linkbnb', 'lunaeth', 'mdtbusd', 'nulsbusd', 'spellbtc', 'spellusdt', 'spellbusd', 'ustbtc', 'ustbusd', 'ustusdt', 'joebtc', 'joebusd', 'joeusdt', 'atometh', 'duskbusd', 'egldeth', 'icpeth', 'lunabrl', 'lunaust', 'neareth', 'rosebnb', 'voxeleth', 'alicebnb', 'atomtry', 'ethust', 'galaaud', 'lrcbnb', 'oneeth', 'ookibnb', 'achbtc', 'achbusd', 'achusdt', 'imxbtc', 'imxbusd', 'imxusdt', 'glmrbtc', 'glmrbusd', 'glmrusdt', 'atombidr', 'dydxeth', 'farmeth', 'forbnb', 'icptry', 'jasmyeth', 'linabnb', 'ookieth', 'roseeth', 'umabusd', 'unieth', 'xtzeth', 'lokabtc', 'lokabnb', 'lokabusd', 'lokausdt', 'atombrl', 'bnbust', 'crveth', 'highbnb', 'nearrub', 'rosetry', 'scrtusdt', 'api3btc', 'api3busd', 'api3usdt', 'bttcusdt', 'bttcusdc', 'bttctry', 'acabtc', 'acabusd', 'acausdt', 'ancbtc', 'ancbusd', 'ancusdt', 'bdotdot', 'xnobtc', 'xnoeth', 'xnobusd', 'xnousdt', 'costry', 'kavaeth', 'mcbnb', 'onetry', 'woobtc', 'woobnb', 'woobusd', 'woousdt', 'celreth', 'peoplebnb', 'slpbnb', 'spellbnb', 'spelltry', 'tfuelbusd', 'axstry', 'dartry', 'neartry', 'idexbnb', 'alpineeur', 'alpinetry', 'alpineusdt', 'alpinebtc', 'tusdt', 'tbusd', 'api3bnb', 'betaeth', 'injtry', 'tlmbnb', 'astrbusd', 'astrusdt', 'api3try', 'glmrbnb', 'mboxtry', 'gmtbtc', 'gmtbnb', 'gmtbusd', 'gmtusdt', 'ancbnb', 'atomeur', 'galaeur', 'ksmeth', 'umatry', 'kdabtc', 'kdabusd', 'kdausdt', 'apeusdt', 'apebusd', 'apebtc', 'alpinebusd', 'lunagbp', 'neareur', 'twttry', 'waveseur', 'apeeur', 'apegbp', 'apetry', 'bswusdt', 'bswbusd', 'bswbnb', 'apebnb', 'gmtbrl', 'gmteth', 'jasmytry', 'santosbusd', 'apeaud', 'bifiusdt', 'gmteur', 'imxbnb', 'runeeth', 'avaxgbp', 'multibtc', 'multibusd', 'multiusdt', 'apeeth', 'bsweth', 'filtry', 'ftmeur', 'gmtgbp', 'ziltry', 'gmttry', 'wavestry', 'btcust', 'astrbtc', 'astreth', 'bswtry', 'ftteth', 'funbnb', 'portobusd', 'steemusdt', 'zileur', 'apebrl', 'audiotry', 'bttcbusd', 'gmtaud', 'mblbusd', 'mobusdt', 'mobbusd', 'mobbtc', 'nexousdt', 'nexobusd', 'nexobtc', 'reiusdt', 'reibnb', 'reieth', 'galusdt', 'galbusd', 'galbnb', 'galbtc', 'jasmyeur', 'kncbnb', 'shibgbp', 'galeur', 'galtry', 'ldobusd', 'ldousdt', 'ldobtc', 'enstry', 'dareur', 'dareth', 'algoeth', 'algotry', 'galeth', 'epxusdt', 'epxbusd', 'runetry', 'galbrl', 'steembusd', 'cvcbusd', 'reibusd', 'drepbusd', 'akrobusd', 'pundixbusd', 'luncbusd', 'ustcbusd', 'opbtc', 'opbusd', 'opusdt', 'ogbusd', 'keybusd', 'asrbusd', 'firobusd', 'nknbusd', 'opbnb', 'opeur', 'gtobusd', 'snxeth', 'wbtcbusd', 'beleth', 'liteth', 'leverusdt', 'leverbusd', 'burgereth', 'peopleeth', 'unfieth', 'bondeth', 'storjtry', 'opeth', 'etctry', 'wingeth', 'fileth', 'glmbusd', 'ssvbusd', 'stgbtc', 'stgbusd', 'stgusdt', 'ankrtry', 'arkbusd', 'bethbusd', 'loombusd', 'snmbusd', 'ambbusd', 'luncusdt', 'phbbusd', 'gasbusd', 'neblbusd', 'prosbusd', 'vibbusd', 'gmxbtc', 'gmxbusd', 'gmxusdt', 'agixbusd', 'neblusdt', 'sntbusd', 'polyxbtc', 'polyxbusd', 'polyxusdt', 'aptbtc', 'aptusdt', 'aptbusd', 'btcpln', 'ethpln', 'busdpln', 'apteur', 'apttry', 'aptbrl', 'qkcbusd', 'osmobtc', 'osmousdt', 'osmobusd', 'hftbtc', 'hftbusd', 'hftusdt', 'arpaeth', 'phbusdt', 'vitebusd', 'hookbtc', 'hookusdt', 'hookbusd', 'hookbnb', 'magicbtc', 'magicbusd', 'magicusdt', 'busdron', 'hifieth', 'hifiusdt', 'rplbtc', 'rplbusd', 'rplusdt', 'prosusdt', 'fettry', 'gftbusd', 'agixusdt', 'apteth', 'btcron', 'gnsusdt', 'gnsbtc', 'synbtc', 'synusdt', 'vibusdt', 'ssvusdt', 'lqtyusdt', 'lqtybtc', 'ambusdt', 'bethusdt', 'cfxtry', 'stxtry', 'ustcusdt', 'gasusdt', 'glmusdt', 'promusdt', 'qkcusdt', 'uftusdt', 'idbtc', 'idbnb', 'idusdt', 'arbbtc', 'arbusdt', 'agixtry', 'loomusdt', 'oaxusdt', 'arbtusd', 'arbtry', 'arbeur', 'idtusd', 'idtry', 'ideur', 'ldotusd', 'matictusd', 'optusd', 'soltusd', 'ssvtusd', 'rdntbtc', 'rdntusdt', 'rdnttusd', 'arbrub', 'joetry', 'magictry', 'usdtpln', 'achtry', 'xvstry', 'egldron', 'usdtron', 'usdtars', 'dogetusd', 'wbtcusdt', 'eduusdt', 'edutusd', 'edubnb', 'edubtc', 'edueur', 'edutry', 'suiusdt', 'suitusd', 'suibtc', 'suibnb', 'suieur', 'suitry', 'aergousdt', 'rndrtry', 'pepeusdt', 'pepetusd', 'flokiusdt', 'flokitusd', 'ogtry', 'pepetry', 'wbetheth', 'astusdt', 'sntusdt', 'flokitry', 'citytry', 'combousdt', 'combobnb', 'combotry', 'ltctry', 'radtry', 'btcars', 'optry', 'paxgtry', 'mavbtc', 'mavusdt', 'mavtusd', 'cfxtusd', 'pendlebtc', 'pendleusdt', 'pendletusd', 'mavtry', 'oceantry', 'tusdtry', 'arbeth', 'bchtry', 'xvgtry', 'xvgtusd', 'arkmusdt', 'arkmtusd', 'arkmtry', 'arkmbnb', 'arkmbtc', 'wbethusdt', 'acatry', 'avaxtusd', 'comptusd', 'comptry', 'xectry', 'quicktusd', 'wldusdt', 'wldbtc', 'bnbfdusd', 'fdusdbusd', 'fdusdusdt', 'arkmrub', 'wldtry', 'wldrub', 'amptry', 'ogntry', 'btcfdusd', 'ethfdusd', 'asrtry', 'atmtry', 'acmtry', 'bartry', 'juvtry', 'psgtry', 'seibnb', 'seibtc', 'seifdusd', 'seitry', 'seiusdt', 'cyberbnb', 'cyberbtc', 'cyberfdusd', 'cybertry', 'cyberusdt', 'cybertusd', 'seitusd', 'lpttry', 'unitry', 'solfdusd', 'tomotry', 'unfitry', 'xrpfdusd', 'dogefdusd', 'cybereth', 'mtltry', 'arkusdt', 'creamusdt', 'gftusdt', 'iqusdt', 'usdtvai', 'arbfdusd', 'fdusdtry', 'fronttry', 'suifdusd', 'ntrnbtc', 'ntrnusdt', 'ntrnbnb', 'filfdusd', 'fronttusd', 'levertry', 'ltcfdusd', 'adafdusd', 'runetusd', 'trbtry', 'atomfdusd', 'avaxfdusd', 'bandtry', 'bchfdusd', 'loomtry', 'maticfdusd', 'algofdusd', 'dotfdusd', 'ftmfdusd', 'linkfdusd', 'nearfdusd', 'straxtry', 'tiabtc', 'tiausdt', 'tiatry', 'memebnb', 'memeusdt', 'memefdusd', 'memetusd', 'memetry', 'ordibtc', 'ordiusdt', 'orditry', 'egldfdusd', 'fetfdusd', 'gasfdusd', 'injeth', 'injtusd', 'opfdusd', 'ordifdusd', 'orditusd', 'rndrfdusd', 'shibtusd', 'beamxusdt', 'arktry', 'beamxtry', 'caketry', 'caketusd', 'dydxfdusd', 'pivxusdt', 'runefdusd', 'tiatusd', 'dottusd', 'galafdusd', 'wldfdusd', 'gastry', 'ntrntry', 'vicbtc', 'vicusdt', 'victry', 'blurbtc', 'blurusdt', 'blurtry', 'blurfdusd', 'superfdusd', 'ustcfdusd', 'ustctry', 'dydxtry', 'vanryusdt', 'vanrybtc', 'btcaeur', 'aeurusdt', 'ethaeur', 'euraeur', 'auctionfdusd', 'iotafdusd', 'lunctry', 'supertry', 'jtousdt', 'jtofdusd', 'jtotry', '1000satsusdt', '1000satsfdusd', '1000satstry', 'shibfdusd', 'sandfdusd', 'memeeth', 'iotatry', 'injfdusd', 'fidatry', 'bonkusdt', 'bonkfdusd', 'bonktry', 'acefdusd', 'aceusdt', 'acebnb', 'acebtc', 'acetry', 'blzfdusd', 'raretry', 'vanrytry', 'nfpbtc', 'nfpusdt', 'nfpbnb', 'nfpfdusd', 'nfptusd', 'nfptry', 'arbusdc', 'avaxusdc', 'dotusdc', 'injusdc', 'maticusdc', 'opusdc', 'ordiusdc', 'aibtc', 'aiusdt', 'aibnb', 'aifdusd', 'aitusd', 'aitry', 'icpfdusd', 'ldofdusd', 'movrtry', 'xaibtc', 'xaiusdt', 'xaibnb', 'xaifdusd', 'xaitusd', 'xaitry', 'skltry', 'stxfdusd', 'tiafdusd', 'mantabtc', 'mantausdt', 'mantabnb', 'mantafdusd', 'mantatry', 'ensfdusd', 'etcfdusd', 'suiusdc', 'tiausdc', 'chzfdusd', 'mantausdc', 'altbtc', 'altusdt', 'altbnb', 'altfdusd', 'alttry', 'aptfdusd', 'blurusdc', 'jupusdt', 'jupfdusd', 'juptry', 'altusdc', 'magicfdusd', 'seiusdc', 'pythbtc', 'pythusdt', 'pythfdusd', 'pythtry', 'roninbtc', 'roninusdt', 'roninfdusd', 'ronintry', 'dymbtc', 'dymusdt', 'dymfdusd', 'dymtry', 'jupusdc', 'pendlefdusd', 'pixelbtc', 'pixelbnb', 'pixelusdt', 'pixelfdusd', 'pixeltry', 'strkbtc', 'strkusdt', 'strkfdusd', 'strktry', 'filusdc', 'hbartry', 'pendletry', 'wldusdc', 'ckbtry', 'cotitry', 'ldotry', 'uniusdc', 'portalbtc', 'portalusdt', 'portalbnb', 'portalfdusd', 'portaltry', 'pdabtc', 'pdausdt', 'axlbtc', 'axlusdt', 'axlfdusd', 'axltry', 'pepefdusd', 'pixelusdc', 'strkusdc', 'unifdusd', 'omtry', 'thetatry', 'wifbtc', 'wifusdt', 'wiffdusd', 'wiftry', 'agixfdusd', 'pepeusdc', 'shibusdc', 'thetafdusd', 'artry', 'metisbtc', 'metisusdt', 'metisfdusd', 'metistry', 'bnbjpy', 'btcjpy', 'ethjpy', 'flokifdusd', 'grtfdusd', 'nearusdc', 'snxtry', 'aevobtc', 'aevousdt', 'aevobnb', 'aevofdusd', 'aevotry', 'fetusdc', 'imxtry', 'eurusdc', 'bometry', 'bomebtc', 'bomeusdt', 'bomefdusd', 'ethfibtc', 'ethfiusdt', 'ethfibnb', 'ethfifdusd', 'ethfitry', 'aavetry', 'arkmfdusd', 'crvtry', 'fetbrl', 'rayfdusd', 'rndreur', 'bonkusdc', 'flokiusdc', 'mkrtry', 'raytry', 'rndrbrl', 'enabtc', 'enausdt', 'enabnb', 'enafdusd', 'enatry', 'lqtyfdusd', 'masktry', 'pendleusdc', 'rdnttry', 'wbtc', 'wusdt', 'wfdusd', 'wtry', 'bomeusdc', 'jtousdc', 'wifusdc', 'tnsrbtc', 'tnsrusdt', 'tnsrfdusd', 'tnsrtry', 'sagabtc', 'sagausdt', 'sagabnb', 'sagafdusd', 'sagatry', 'usdtmxn', 'ckbusdc', 'enausdc', 'ethfiusdc', 'yggusdc', 'usdtczk', 'taobtc', 'taousdt', 'taofdusd', 'taotry', 'cfxusdc', 'rndrusdc', 'runeusdc', 'sagausdc', 'polyxtry', 'omnibtc', 'omniusdt', 'omnibnb', 'omnifdusd', 'omnitry', 'aptusdc', 'galausdc', 'omnibrl', 'stxusdc', 'icpusdc', 'omniusdc', 'pepebrl', 'yggtry', 'adajpy', 'shibjpy', 'soljpy', 'xrpjpy', 'rezbtc', 'rezusdt', 'rezbnb', 'rezfdusd', 'reztry', 'egldtry', 'phbtry', 'rsrtry', 'bbbtc', 'bbusdt', 'bbbnb', 'bbfdusd', 'bbtry', 'frontusdc', 'peopletry', 'trbusdc', 'notusdt', 'notbnb', 'notfdusd', 'nottry', 'arkmusdc', 'arusdc', 'bbusdc', 'crvusdc', 'peopleusdc', 'arfdusd', 'enaeur', 'pepeeur', 'rezusdc', 'trbfdusd', 'usdctry', 'btcmxn', 'xrpmxn', 'ensusdc', 'ldousdc', 'notusdc', 'nearbrl', 'hightry', 'peoplefdusd', 'tnsrusdc', 'usdtcop', 'iobtc', 'iousdt', 'iobnb', 'iofdusd', 'iotry', 'notbrl', 'trutry', 'wifeur', 'zkbtc', 'zkusdt', 'zkfdusd', 'zktry', 'listausdt', 'listabnb', 'listafdusd', 'listatry', 'zrobtc', 'zrousdt', 'zrofdusd', 'zrotry', 'listabrl', 'baketry', 'wifbrl', 'zkusdc', 'zrousdc', 'iousdc', '1000satsusdc', 'bnxtry', 'ethars', 'gusdt', 'gtry', 'bananabtc', 'bananausdt', 'bananabnb', 'bananafdusd', 'bananatry', 'renderbtc', 'renderusdt', 'renderfdusd', 'renderusdc', 'rendertry', 'rendereur', 'renderbrl', 'tonbtc', 'tonusdt', 'tonfdusd', 'tontry', 'bonkbrl', 'noteur', 'dogejpy', 'maticjpy', 'nearjpy', 'tonusdc', 'aavefdusd', 'dogsusdt', 'dogsbnb', 'dogsfdusd', 'dogstry', 'eureuri', 'euriusdt', 'dogsbrl', 'dogsusdc', 'rarebrl', 'rareusdc', 'slfbtc', 'slftry', 'slfusdc', 'slfusdt', 'aaveusdc', 'suntry', 'stmxtry', 'polbnb', 'polbrl', 'polbtc', 'poleth', 'poleur', 'polfdusd', 'poljpy', 'poltry', 'polusdc', 'polusdt', 'neirousdt', 'turbousdt', '1mbabydogeusdt', 'catiusdt', 'catibnb', 'catifdusd', 'catitry', '1mbabydogefdusd', '1mbabydogetry', 'catibrl', 'btceuri', 'neirofdusd', 'neirotry', 'hmstrusdt', 'hmstrbnb', 'hmstrfdusd', 'hmstrtry', 'eigenbtc', 'eigenusdt', 'eigenfdusd', 'eigentry', 'neirobrl', 'neiroeur']\n"
     ]
    }
   ],
   "source": [
    "import requests\n",
    "\n",
    "# Binance API URL for exchange information\n",
    "url = \"https://api.binance.com/api/v3/exchangeInfo\"\n",
    "\n",
    "# Make a GET request to the endpoint\n",
    "response = requests.get(url)\n",
    "\n",
    "# Convert the response to JSON\n",
    "data = response.json()\n",
    "\n",
    "# Extract all symbols\n",
    "binance_symbols = [symbol['symbol'] for symbol in data['symbols']]\n",
    "print(binance_symbols)\n",
    "binance_uppers = binance_symbols\n",
    "binance_symbols = [item.lower() for item in binance_symbols]\n",
    "# Print or use the list of symbols\n",
    "print(binance_symbols)\n"
   ]
  },
  {
   "cell_type": "code",
   "execution_count": 5,
   "metadata": {},
   "outputs": [
    {
     "data": {
      "text/plain": [
       "2757"
      ]
     },
     "execution_count": 5,
     "metadata": {},
     "output_type": "execute_result"
    }
   ],
   "source": [
    "len(binance_symbols)"
   ]
  },
  {
   "cell_type": "code",
   "execution_count": 6,
   "metadata": {},
   "outputs": [],
   "source": [
    "symbol_mapping = pd.DataFrame()\n",
    "symbol_mapping['Aave_symbols'] = Aave_symbols\n",
    "\n",
    "def mapping_usdt(s):\n",
    "     if s+'usdt' in binance_symbols:\n",
    "          return s+'usdt'\n",
    "     else:\n",
    "          return None\n",
    "     \n",
    "def mapping_assets(s):\n",
    "     if s in binance_symbols:\n",
    "          return s\n",
    "     else:\n",
    "          return None\n",
    "\n",
    "symbol_mapping['coresponding_binance'] = symbol_mapping['Aave_symbols'].apply(mapping_assets)\n",
    "symbol_mapping['coresponding_usdt'] = symbol_mapping['Aave_symbols'].apply(mapping_usdt)"
   ]
  },
  {
   "cell_type": "code",
   "execution_count": 7,
   "metadata": {},
   "outputs": [
    {
     "name": "stdout",
     "output_type": "stream",
     "text": [
      "<class 'pandas.core.frame.DataFrame'>\n",
      "RangeIndex: 237 entries, 0 to 236\n",
      "Data columns (total 3 columns):\n",
      " #   Column                Non-Null Count  Dtype \n",
      "---  ------                --------------  ----- \n",
      " 0   Aave_symbols          237 non-null    object\n",
      " 1   coresponding_binance  6 non-null      object\n",
      " 2   coresponding_usdt     81 non-null     object\n",
      "dtypes: object(3)\n",
      "memory usage: 5.7+ KB\n"
     ]
    }
   ],
   "source": [
    "symbol_mapping.info()"
   ]
  },
  {
   "cell_type": "code",
   "execution_count": 8,
   "metadata": {},
   "outputs": [
    {
     "data": {
      "text/html": [
       "<div>\n",
       "<style scoped>\n",
       "    .dataframe tbody tr th:only-of-type {\n",
       "        vertical-align: middle;\n",
       "    }\n",
       "\n",
       "    .dataframe tbody tr th {\n",
       "        vertical-align: top;\n",
       "    }\n",
       "\n",
       "    .dataframe thead th {\n",
       "        text-align: right;\n",
       "    }\n",
       "</style>\n",
       "<table border=\"1\" class=\"dataframe\">\n",
       "  <thead>\n",
       "    <tr style=\"text-align: right;\">\n",
       "      <th></th>\n",
       "      <th>Aave_symbols</th>\n",
       "      <th>coresponding_binance</th>\n",
       "      <th>coresponding_usdt</th>\n",
       "    </tr>\n",
       "  </thead>\n",
       "  <tbody>\n",
       "    <tr>\n",
       "      <th>3</th>\n",
       "      <td>usdt</td>\n",
       "      <td>None</td>\n",
       "      <td>None</td>\n",
       "    </tr>\n",
       "    <tr>\n",
       "      <th>22</th>\n",
       "      <td>ausdt</td>\n",
       "      <td>None</td>\n",
       "      <td>None</td>\n",
       "    </tr>\n",
       "    <tr>\n",
       "      <th>23</th>\n",
       "      <td>awbtc</td>\n",
       "      <td>None</td>\n",
       "      <td>None</td>\n",
       "    </tr>\n",
       "    <tr>\n",
       "      <th>24</th>\n",
       "      <td>aweth</td>\n",
       "      <td>None</td>\n",
       "      <td>None</td>\n",
       "    </tr>\n",
       "    <tr>\n",
       "      <th>25</th>\n",
       "      <td>ayfi</td>\n",
       "      <td>None</td>\n",
       "      <td>None</td>\n",
       "    </tr>\n",
       "    <tr>\n",
       "      <th>...</th>\n",
       "      <td>...</td>\n",
       "      <td>...</td>\n",
       "      <td>...</td>\n",
       "    </tr>\n",
       "    <tr>\n",
       "      <th>227</th>\n",
       "      <td>weth</td>\n",
       "      <td>None</td>\n",
       "      <td>None</td>\n",
       "    </tr>\n",
       "    <tr>\n",
       "      <th>229</th>\n",
       "      <td>wsteth</td>\n",
       "      <td>None</td>\n",
       "      <td>None</td>\n",
       "    </tr>\n",
       "    <tr>\n",
       "      <th>231</th>\n",
       "      <td>wbnb</td>\n",
       "      <td>None</td>\n",
       "      <td>None</td>\n",
       "    </tr>\n",
       "    <tr>\n",
       "      <th>232</th>\n",
       "      <td>btcb</td>\n",
       "      <td>None</td>\n",
       "      <td>None</td>\n",
       "    </tr>\n",
       "    <tr>\n",
       "      <th>235</th>\n",
       "      <td>usdt</td>\n",
       "      <td>None</td>\n",
       "      <td>None</td>\n",
       "    </tr>\n",
       "  </tbody>\n",
       "</table>\n",
       "<p>156 rows × 3 columns</p>\n",
       "</div>"
      ],
      "text/plain": [
       "    Aave_symbols coresponding_binance coresponding_usdt\n",
       "3           usdt                 None              None\n",
       "22         ausdt                 None              None\n",
       "23         awbtc                 None              None\n",
       "24         aweth                 None              None\n",
       "25          ayfi                 None              None\n",
       "..           ...                  ...               ...\n",
       "227         weth                 None              None\n",
       "229       wsteth                 None              None\n",
       "231         wbnb                 None              None\n",
       "232         btcb                 None              None\n",
       "235         usdt                 None              None\n",
       "\n",
       "[156 rows x 3 columns]"
      ]
     },
     "execution_count": 8,
     "metadata": {},
     "output_type": "execute_result"
    }
   ],
   "source": [
    "symbol_mapping[symbol_mapping['coresponding_usdt'].isna()]"
   ]
  },
  {
   "cell_type": "code",
   "execution_count": 19,
   "metadata": {},
   "outputs": [
    {
     "data": {
      "text/plain": [
       "156"
      ]
     },
     "execution_count": 19,
     "metadata": {},
     "output_type": "execute_result"
    }
   ],
   "source": [
    "len(symbol_mapping['Aave_symbols'].unique())"
   ]
  },
  {
   "cell_type": "code",
   "execution_count": 9,
   "metadata": {},
   "outputs": [
    {
     "data": {
      "text/plain": [
       "81"
      ]
     },
     "execution_count": 9,
     "metadata": {},
     "output_type": "execute_result"
    }
   ],
   "source": [
    "# finding the symbols that if you add usdt to them you can find them in binance\n",
    "symbols_req = symbol_mapping['coresponding_usdt'].to_list()\n",
    "symbols_req = [item for item in symbols_req if not pd.isna(item)]\n",
    "symbols_req = [item.upper() for item in symbols_req]\n",
    "len(symbols_req)"
   ]
  },
  {
   "cell_type": "code",
   "execution_count": 13,
   "metadata": {},
   "outputs": [
    {
     "data": {
      "text/plain": [
       "['DAIUSDT',\n",
       " 'TUSDUSDT',\n",
       " 'USDCUSDT',\n",
       " 'SUSDUSDT',\n",
       " 'LENDUSDT',\n",
       " 'BATUSDT',\n",
       " 'ETHUSDT',\n",
       " 'LINKUSDT',\n",
       " 'KNCUSDT',\n",
       " 'REPUSDT',\n",
       " 'MKRUSDT',\n",
       " 'MANAUSDT',\n",
       " 'ZRXUSDT',\n",
       " 'SNXUSDT',\n",
       " 'WBTCUSDT',\n",
       " 'BUSDUSDT',\n",
       " 'ENJUSDT',\n",
       " 'RENUSDT',\n",
       " 'YFIUSDT',\n",
       " 'AAVEUSDT',\n",
       " 'UNIUSDT',\n",
       " 'DAIUSDT',\n",
       " 'LINKUSDT',\n",
       " 'USDCUSDT',\n",
       " 'WBTCUSDT',\n",
       " 'AAVEUSDT',\n",
       " 'CRVUSDT',\n",
       " 'SUSHIUSDT',\n",
       " 'GHSTUSDT',\n",
       " 'BALUSDT',\n",
       " 'USDCUSDT',\n",
       " 'USDCUSDT',\n",
       " 'DAIUSDT',\n",
       " 'LINKUSDT',\n",
       " 'USDCUSDT',\n",
       " 'WBTCUSDT',\n",
       " 'AAVEUSDT',\n",
       " 'USDCUSDT',\n",
       " 'ARBUSDT',\n",
       " 'DAIUSDT',\n",
       " 'LINKUSDT',\n",
       " 'USDCUSDT',\n",
       " 'WBTCUSDT',\n",
       " 'AAVEUSDT',\n",
       " 'SUSDUSDT',\n",
       " 'OPUSDT',\n",
       " 'USDCUSDT',\n",
       " 'DAIUSDT',\n",
       " 'LINKUSDT',\n",
       " 'USDCUSDT',\n",
       " 'BTCUSDT',\n",
       " 'ETHUSDT',\n",
       " 'AAVEUSDT',\n",
       " 'CRVUSDT',\n",
       " 'SUSHIUSDT',\n",
       " 'WBTCUSDT',\n",
       " 'USDCUSDT',\n",
       " 'DAIUSDT',\n",
       " 'LINKUSDT',\n",
       " 'AAVEUSDT',\n",
       " 'CRVUSDT',\n",
       " 'MKRUSDT',\n",
       " 'SNXUSDT',\n",
       " 'BALUSDT',\n",
       " 'UNIUSDT',\n",
       " 'LDOUSDT',\n",
       " 'ENSUSDT',\n",
       " '1INCHUSDT',\n",
       " 'RPLUSDT',\n",
       " 'STGUSDT',\n",
       " 'KNCUSDT',\n",
       " 'FXSUSDT',\n",
       " 'USDCUSDT',\n",
       " 'METISUSDT',\n",
       " 'GNOUSDT',\n",
       " 'USDCUSDT',\n",
       " 'USDCUSDT',\n",
       " 'CAKEUSDT',\n",
       " 'ETHUSDT',\n",
       " 'USDCUSDT',\n",
       " 'FDUSDUSDT']"
      ]
     },
     "execution_count": 13,
     "metadata": {},
     "output_type": "execute_result"
    }
   ],
   "source": [
    "symbols_req"
   ]
  },
  {
   "cell_type": "code",
   "execution_count": null,
   "metadata": {},
   "outputs": [],
   "source": [
    "import time\n",
    "from datetime import datetime\n",
    "\n",
    "date_end = datetime(2024, 10, 4, 12, 0, 0)\n",
    "x = 0\n",
    "for s in symbols_req:\n",
    "    try:\n",
    "        print(s)\n",
    "        df = get_binance_klines(s, '1h', datetime_to_timestamp(date_end))\n",
    "        print(len(df))\n",
    "        x += 1\n",
    "        print(x)\n",
    "        df.to_csv(f'{s}.csv')\n",
    "    except Exception as e:\n",
    "        print(f\"An error occurred for symbol {s}: {e}\")\n",
    "    time.sleep(3)\n"
   ]
  },
  {
   "cell_type": "markdown",
   "metadata": {},
   "source": [
    "### End of Notebook"
   ]
  }
 ],
 "metadata": {
  "kernelspec": {
   "display_name": "base",
   "language": "python",
   "name": "python3"
  },
  "language_info": {
   "codemirror_mode": {
    "name": "ipython",
    "version": 3
   },
   "file_extension": ".py",
   "mimetype": "text/x-python",
   "name": "python",
   "nbconvert_exporter": "python",
   "pygments_lexer": "ipython3",
   "version": "3.11.5"
  }
 },
 "nbformat": 4,
 "nbformat_minor": 2
}
