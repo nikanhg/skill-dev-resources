{
 "cells": [
  {
   "cell_type": "markdown",
   "metadata": {},
   "source": [
    "# Interactive Plotting and Monte Carlo Simulations of CPPI"
   ]
  },
  {
   "cell_type": "code",
   "execution_count": 6,
   "metadata": {},
   "outputs": [
    {
     "name": "stdout",
     "output_type": "stream",
     "text": [
      "The autoreload extension is already loaded. To reload it, use:\n",
      "  %reload_ext autoreload\n"
     ]
    }
   ],
   "source": [
    "import ipywidgets as widgets\n",
    "from IPython.display import display\n",
    "import pandas as pd\n",
    "import toolkit as tk\n",
    "\n",
    "%load_ext autoreload\n",
    "%autoreload 2"
   ]
  },
  {
   "cell_type": "markdown",
   "metadata": {},
   "source": [
    "# CPPI"
   ]
  },
  {
   "cell_type": "code",
   "execution_count": null,
   "metadata": {},
   "outputs": [
    {
     "data": {
      "application/vnd.jupyter.widget-view+json": {
       "model_id": "eccb7304545344ae852b88a2395fb4e1",
       "version_major": 2,
       "version_minor": 0
      },
      "text/plain": [
       "interactive(children=(IntSlider(value=50, description='n_scenarios', max=1000, min=1, step=5), FloatSlider(val…"
      ]
     },
     "metadata": {},
     "output_type": "display_data"
    }
   ],
   "source": [
    "import matplotlib.pyplot as plt\n",
    "import numpy as np\n",
    "\n",
    "def show_cppi(n_scenarios=50, mu=0.07, sigma=0.15, m=3, floor=0., riskfree_rate=0.03, steps_per_year=12, y_max=100):\n",
    "    \"\"\"\n",
    "    Plot the results of a Monte Carlo Simulation of CPPI\n",
    "    \"\"\"\n",
    "    start = 100\n",
    "    sim_rets = tk.gbm(n_scenarios=n_scenarios, mu=mu, sigma=sigma, prices=False, steps_per_year=steps_per_year)\n",
    "    risky_r = pd.DataFrame(sim_rets)\n",
    "    # run the \"back\"-test\n",
    "    btr = tk.run_cppi(risky_r=pd.DataFrame(risky_r),riskfree_rate=riskfree_rate,m=m, start=start, floor=floor)\n",
    "    wealth = btr[\"Wealth\"]\n",
    "\n",
    "    # calculate terminal wealth stats\n",
    "\n",
    "    y_max=wealth.values.max()*y_max/100\n",
    "    terminal_wealth = wealth.iloc[-1]\n",
    "    \n",
    "    tw_mean = terminal_wealth.mean()\n",
    "    tw_median = terminal_wealth.median()\n",
    "    failure_mask = np.less(terminal_wealth, start*floor)\n",
    "    n_failures = failure_mask.sum()\n",
    "    p_fail = n_failures/n_scenarios\n",
    "\n",
    "    e_shortfall = np.dot(terminal_wealth-start*floor, failure_mask)/n_failures if n_failures > 0 else 0.0\n",
    "\n",
    "    # Plot!\n",
    "    fig, (wealth_ax, hist_ax) = plt.subplots(nrows=1, ncols=2, sharey=True, gridspec_kw={'width_ratios':[3,2]}, figsize=(24, 9))\n",
    "    plt.subplots_adjust(wspace=0.0)\n",
    "    \n",
    "    wealth.plot(ax=wealth_ax, legend=False, alpha=0.3, color=\"indianred\")\n",
    "    wealth_ax.axhline(y=start, ls=\":\", color=\"black\")\n",
    "    wealth_ax.axhline(y=start*floor, ls=\"--\", color=\"red\")\n",
    "    wealth_ax.set_ylim(top=y_max)\n",
    "    \n",
    "    terminal_wealth.plot.hist(ax=hist_ax, bins=50, ec='w', fc='indianred', orientation='horizontal')\n",
    "    hist_ax.axhline(y=start, ls=\":\", color=\"black\")\n",
    "    hist_ax.axhline(y=tw_mean, ls=\":\", color=\"blue\")\n",
    "    hist_ax.axhline(y=tw_median, ls=\":\", color=\"purple\")\n",
    "    hist_ax.annotate(f\"Mean: ${int(tw_mean)}\", xy=(.7, .9),xycoords='axes fraction', fontsize=24)\n",
    "    hist_ax.annotate(f\"Median: ${int(tw_median)}\", xy=(.7, .85),xycoords='axes fraction', fontsize=24)\n",
    "    if (floor > 0.01):\n",
    "        hist_ax.axhline(y=start*floor, ls=\"--\", color=\"red\", linewidth=3)\n",
    "        hist_ax.annotate(f\"Violations: {n_failures} ({p_fail*100:2.2f}%)\\nE(shortfall)=${e_shortfall:2.2f}\", xy=(.7, .7), xycoords='axes fraction', fontsize=24)\n",
    "\n",
    "cppi_controls = widgets.interactive(show_cppi,\n",
    "                                   n_scenarios=widgets.IntSlider(min=1, max=1000, step=5, value=50), \n",
    "                                   mu=(0., +.2, .01),\n",
    "                                   sigma=(0, .3, .05),\n",
    "                                   floor=(0, 2, .1),\n",
    "                                   m=(1, 5, .5),\n",
    "                                   riskfree_rate=(0, .05, .01),\n",
    "                                   steps_per_year=widgets.IntSlider(min=1, max=12, step=1, value=12,\n",
    "                                                          description=\"Rebals/Year\"),\n",
    "                                   y_max=widgets.IntSlider(min=0, max=100, step=1, value=100,\n",
    "                                                          description=\"Zoom Y Axis\")\n",
    ")\n",
    "display(cppi_controls)"
   ]
  }
 ],
 "metadata": {
  "kernelspec": {
   "display_name": "base",
   "language": "python",
   "name": "python3"
  },
  "language_info": {
   "codemirror_mode": {
    "name": "ipython",
    "version": 3
   },
   "file_extension": ".py",
   "mimetype": "text/x-python",
   "name": "python",
   "nbconvert_exporter": "python",
   "pygments_lexer": "ipython3",
   "version": "3.11.5"
  }
 },
 "nbformat": 4,
 "nbformat_minor": 4
}
